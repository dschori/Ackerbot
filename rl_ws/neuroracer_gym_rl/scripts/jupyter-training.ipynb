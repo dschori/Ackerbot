{
 "cells": [
  {
   "cell_type": "code",
   "execution_count": null,
   "metadata": {},
   "outputs": [],
   "source": [
    "import gym\n",
    "import rospy\n",
    "\n",
    "from gym.envs.registration import register\n",
    "\n",
    "rospy.init_node('neuroracer_qlearn', anonymous=True, log_level=rospy.INFO)\n",
    "\n",
    "print(register(\n",
    "        id='NeuroRacer-v0',\n",
    "        entry_point='neuroracer_gym.tasks.neuroracer_discrete_task:NeuroRacerDiscreteTask',\n",
    "        # timestep_limit=timestep_limit_per_episode,\n",
    "    ))\n",
    "env = gym.make('NeuroRacer-v0')"
   ]
  },
  {
   "cell_type": "code",
   "execution_count": null,
   "metadata": {},
   "outputs": [],
   "source": [
    "import rospy\n",
    "\n",
    "from neuroracer_discrete import NeuroRacer\n",
    "\n",
    "if __name__ == '__main__':\n",
    "\n",
    "    rospy.init_node('neuroracer_qlearn', anonymous=True, log_level=rospy.INFO)\n",
    "\n",
    "    always_explore = False\n",
    "    agent_name = 'dqn'\n",
    "    \n",
    "    module = __import__(agent_name)\n",
    "    agent_class = getattr(module, 'Agent')\n",
    "\n",
    "    game = NeuroRacer(agent_class, \\\n",
    "                      sample_batch_size=1000, \\\n",
    "                      n_frames=16, \\\n",
    "                      buffer_max_size=100000, \\\n",
    "                      chunk_size=20000, \\\n",
    "                      add_flipped=False)\n",
    "    rospy.logwarn(\"Gym environment done. always_explore = \" + str(always_explore))\n",
    "    rospy.logwarn(\"Agent is \" + agent_name)\n",
    "\n",
    "    # Set the logging system\n",
    "    # rospack = rospkg.RosPack()\n",
    "    # pkg_path = rospack.get_path('demo')\n",
    "    # outdir = pkg_path + '/training_results'\n",
    "    # rospy.loginfo(\"Monitor Wrapper started\")\n",
    "\n",
    "    game.run()"
   ]
  },
  {
   "cell_type": "code",
   "execution_count": null,
   "metadata": {},
   "outputs": [],
   "source": []
  }
 ],
 "metadata": {
  "kernelspec": {
   "display_name": "Python 3",
   "language": "python",
   "name": "python3"
  },
  "language_info": {
   "codemirror_mode": {
    "name": "ipython",
    "version": 3
   },
   "file_extension": ".py",
   "mimetype": "text/x-python",
   "name": "python",
   "nbconvert_exporter": "python",
   "pygments_lexer": "ipython3",
   "version": "3.8.5"
  }
 },
 "nbformat": 4,
 "nbformat_minor": 4
}
