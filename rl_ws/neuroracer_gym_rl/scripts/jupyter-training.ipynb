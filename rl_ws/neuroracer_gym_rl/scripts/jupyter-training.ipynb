{
 "cells": [
  {
   "cell_type": "code",
   "execution_count": null,
   "metadata": {},
   "outputs": [],
   "source": [
    "import gym\n",
    "import rospy\n",
    "\n",
    "from gym.envs.registration import register\n",
    "\n",
    "rospy.init_node('neuroracer_qlearn', anonymous=True, log_level=rospy.INFO)\n",
    "\n",
    "print(register(\n",
    "        id='NeuroRacer-v0',\n",
    "        entry_point='neuroracer_gym.tasks.neuroracer_discrete_task:NeuroRacerDiscreteTask',\n",
    "        # timestep_limit=timestep_limit_per_episode,\n",
    "    ))\n",
    "env = gym.make('NeuroRacer-v0')"
   ]
  },
  {
   "cell_type": "code",
   "execution_count": 2,
   "metadata": {},
   "outputs": [
    {
     "name": "stdout",
     "output_type": "stream",
     "text": [
      "Collecting tf-agents\n",
      "  Downloading tf_agents-0.6.0-py3-none-any.whl (1.1 MB)\n",
      "\u001B[K     |████████████████████████████████| 1.1 MB 3.3 MB/s eta 0:00:01\n",
      "\u001B[?25hRequirement already satisfied: protobuf>=3.11.3 in /usr/local/lib/python3.8/dist-packages (from tf-agents) (3.14.0)\n",
      "Collecting gin-config>=0.3.0\n",
      "  Downloading gin_config-0.4.0-py2.py3-none-any.whl (46 kB)\n",
      "\u001B[K     |████████████████████████████████| 46 kB 3.2 MB/s eta 0:00:01\n",
      "\u001B[?25hCollecting cloudpickle==1.3\n",
      "  Downloading cloudpickle-1.3.0-py2.py3-none-any.whl (26 kB)\n",
      "Requirement already satisfied: wrapt>=1.11.1 in /usr/local/lib/python3.8/dist-packages (from tf-agents) (1.12.1)\n",
      "Collecting tensorflow-probability>=0.11.0\n",
      "  Downloading tensorflow_probability-0.12.0-py2.py3-none-any.whl (4.8 MB)\n",
      "\u001B[K     |████████████████████████████████| 4.8 MB 4.0 MB/s eta 0:00:01\n",
      "\u001B[?25hRequirement already satisfied: numpy>=1.13.3 in /usr/local/lib/python3.8/dist-packages (from tf-agents) (1.19.4)\n",
      "Requirement already satisfied: absl-py>=0.6.1 in /usr/local/lib/python3.8/dist-packages (from tf-agents) (0.11.0)\n",
      "Requirement already satisfied: six>=1.10.0 in /usr/local/lib/python3.8/dist-packages (from tf-agents) (1.15.0)\n",
      "Collecting dm-tree\n",
      "  Downloading dm_tree-0.1.5-cp38-cp38-manylinux2014_x86_64.whl (91 kB)\n",
      "\u001B[K     |████████████████████████████████| 91 kB 3.4 MB/s eta 0:00:01\n",
      "\u001B[?25hRequirement already satisfied: gast>=0.3.2 in /usr/local/lib/python3.8/dist-packages (from tensorflow-probability>=0.11.0->tf-agents) (0.3.3)\n",
      "Requirement already satisfied: decorator in /usr/local/lib/python3.8/dist-packages (from tensorflow-probability>=0.11.0->tf-agents) (4.4.2)\n",
      "Installing collected packages: gin-config, cloudpickle, dm-tree, tensorflow-probability, tf-agents\n",
      "  Attempting uninstall: cloudpickle\n",
      "    Found existing installation: cloudpickle 1.6.0\n",
      "    Uninstalling cloudpickle-1.6.0:\n",
      "      Successfully uninstalled cloudpickle-1.6.0\n",
      "Successfully installed cloudpickle-1.3.0 dm-tree-0.1.5 gin-config-0.4.0 tensorflow-probability-0.12.0 tf-agents-0.6.0\n"
     ]
    }
   ],
   "source": [
    "!pip3 install tf-agents"
   ]
  },
  {
   "cell_type": "code",
   "execution_count": null,
   "metadata": {},
   "outputs": [
    {
     "name": "stdout",
     "output_type": "stream",
     "text": [
      "None\n"
     ]
    },
    {
     "name": "stderr",
     "output_type": "stream",
     "text": [
      "[ERROR] [1609073840.051596, 18.713000]: NOT Initialising Simulation Physics Parameters\n",
      "[WARN] [1609073840.066036, 0.014000]: Start Init ControllersConnection\n",
      "[WARN] [1609073840.067929, 0.014000]: END Init ControllersConnection\n"
     ]
    },
    {
     "name": "stdout",
     "output_type": "stream",
     "text": [
      "[INFO] [1609073842.179172, 1.345000]: State size\n",
      "[INFO] [1609073842.188888, 1.346000]: (12, 90, 4)\n",
      "Model: \"sequential\"\n",
      "_________________________________________________________________\n",
      "Layer (type)                 Output Shape              Param #   \n",
      "=================================================================\n",
      "reshape (Reshape)            (None, 4320)              0         \n",
      "_________________________________________________________________\n",
      "dense (Dense)                (None, 256)               1106176   \n",
      "_________________________________________________________________\n",
      "leaky_re_lu (LeakyReLU)      (None, 256)               0         \n",
      "_________________________________________________________________\n",
      "dropout (Dropout)            (None, 256)               0         \n",
      "_________________________________________________________________\n",
      "dense_1 (Dense)              (None, 128)               32896     \n",
      "_________________________________________________________________\n",
      "leaky_re_lu_1 (LeakyReLU)    (None, 128)               0         \n",
      "_________________________________________________________________\n",
      "dropout_1 (Dropout)          (None, 128)               0         \n",
      "_________________________________________________________________\n",
      "dense_2 (Dense)              (None, 3)                 387       \n",
      "=================================================================\n",
      "Total params: 1,139,459\n",
      "Trainable params: 1,139,459\n",
      "Non-trainable params: 0\n",
      "_________________________________________________________________\n"
     ]
    },
    {
     "name": "stderr",
     "output_type": "stream",
     "text": [
      "[WARN] [1609073842.356932, 1.346000]: Gym environment done. always_explore = False\n",
      "[WARN] [1609073842.359312, 1.346000]: Agent is dqn2\n"
     ]
    }
   ],
   "source": [
    "import rospy\n",
    "\n",
    "from neuroracer_discrete import NeuroRacer\n",
    "\n",
    "if __name__ == '__main__':\n",
    "\n",
    "    rospy.init_node('neuroracer_qlearn', anonymous=True, log_level=rospy.INFO)\n",
    "\n",
    "    always_explore = False\n",
    "    agent_name = 'dqn2'\n",
    "    \n",
    "    module = __import__(agent_name)\n",
    "    agent_class = getattr(module, 'Agent')\n",
    "\n",
    "    game = NeuroRacer(agent_class, \\\n",
    "                      sample_batch_size=1000, \\\n",
    "                      n_frames=4, \\\n",
    "                      buffer_max_size=100000, \\\n",
    "                      chunk_size=20000, \\\n",
    "                      add_flipped=False)\n",
    "    rospy.logwarn(\"Gym environment done. always_explore = \" + str(always_explore))\n",
    "    rospy.logwarn(\"Agent is \" + agent_name)\n",
    "\n",
    "    # Set the logging system\n",
    "    # rospack = rospkg.RosPack()\n",
    "    # pkg_path = rospack.get_path('demo')\n",
    "    # outdir = pkg_path + '/training_results'\n",
    "    # rospy.loginfo(\"Monitor Wrapper started\")\n",
    "\n",
    "    game.run()"
   ]
  },
  {
   "cell_type": "code",
   "execution_count": null,
   "metadata": {},
   "outputs": [],
   "source": []
  }
 ],
 "metadata": {
  "kernelspec": {
   "display_name": "Python 3",
   "language": "python",
   "name": "python3"
  },
  "language_info": {
   "codemirror_mode": {
    "name": "ipython",
    "version": 3
   },
   "file_extension": ".py",
   "mimetype": "text/x-python",
   "name": "python",
   "nbconvert_exporter": "python",
   "pygments_lexer": "ipython3",
   "version": "3.8.5"
  }
 },
 "nbformat": 4,
 "nbformat_minor": 4
}