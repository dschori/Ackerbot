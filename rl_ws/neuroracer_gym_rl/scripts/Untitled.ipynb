{
 "cells": [
  {
   "cell_type": "code",
   "execution_count": null,
   "metadata": {},
   "outputs": [
    {
     "name": "stdout",
     "output_type": "stream",
     "text": [
      "None\n"
     ]
    },
    {
     "name": "stderr",
     "output_type": "stream",
     "text": [
      "/usr/local/lib/python3.8/dist-packages/gym/envs/registration.py:14: PkgResourcesDeprecationWarning: Parameters to load are deprecated.  Call .resolve and .require separately.\n",
      "  result = entry_point.load(False)\n",
      "[ERROR] [1608666887.383202, 13.473000]: NOT Initialising Simulation Physics Parameters\n",
      "[WARN] [1608666887.420363, 0.009000]: Start Init ControllersConnection\n",
      "[WARN] [1608666887.423038, 0.009000]: END Init ControllersConnection\n",
      "[ERROR] [1608666889.676749, 0.729000]: Camera not ready yet, retrying for getting camera_msg\n"
     ]
    },
    {
     "name": "stdout",
     "output_type": "stream",
     "text": [
      "\u001b[33mWARN: gym.spaces.Box autodetected dtype as <class 'numpy.float32'>. Please provide explicit dtype.\u001b[0m\n",
      "[INFO] [1608666891.266092, 1.151000]: State size\n",
      "[INFO] [1608666891.279487, 1.151000]: (56, 128, 16)\n",
      "Model: \"sequential\"\n",
      "_________________________________________________________________\n",
      "Layer (type)                 Output Shape              Param #   \n",
      "=================================================================\n",
      "conv2d (Conv2D)              (None, 56, 128, 16)       2320      \n",
      "_________________________________________________________________\n",
      "leaky_re_lu (LeakyReLU)      (None, 56, 128, 16)       0         \n",
      "_________________________________________________________________\n",
      "max_pooling2d (MaxPooling2D) (None, 28, 64, 16)        0         \n",
      "_________________________________________________________________\n",
      "dropout (Dropout)            (None, 28, 64, 16)        0         \n",
      "_________________________________________________________________\n",
      "conv2d_1 (Conv2D)            (None, 28, 64, 32)        4640      \n",
      "_________________________________________________________________\n",
      "leaky_re_lu_1 (LeakyReLU)    (None, 28, 64, 32)        0         \n",
      "_________________________________________________________________\n",
      "dropout_1 (Dropout)          (None, 28, 64, 32)        0         \n",
      "_________________________________________________________________\n",
      "conv2d_2 (Conv2D)            (None, 14, 32, 64)        18496     \n",
      "_________________________________________________________________\n",
      "leaky_re_lu_2 (LeakyReLU)    (None, 14, 32, 64)        0         \n",
      "_________________________________________________________________\n",
      "dropout_2 (Dropout)          (None, 14, 32, 64)        0         \n",
      "_________________________________________________________________\n",
      "flatten (Flatten)            (None, 28672)             0         \n",
      "_________________________________________________________________\n",
      "dense (Dense)                (None, 256)               7340288   \n",
      "_________________________________________________________________\n",
      "leaky_re_lu_3 (LeakyReLU)    (None, 256)               0         \n",
      "_________________________________________________________________\n",
      "dropout_3 (Dropout)          (None, 256)               0         \n",
      "_________________________________________________________________\n",
      "dense_1 (Dense)              (None, 128)               32896     \n",
      "_________________________________________________________________\n",
      "leaky_re_lu_4 (LeakyReLU)    (None, 128)               0         \n",
      "_________________________________________________________________\n",
      "dropout_4 (Dropout)          (None, 128)               0         \n",
      "_________________________________________________________________\n",
      "dense_2 (Dense)              (None, 3)                 387       \n",
      "=================================================================\n",
      "Total params: 7,399,027\n",
      "Trainable params: 7,399,027\n",
      "Non-trainable params: 0\n",
      "_________________________________________________________________\n"
     ]
    },
    {
     "name": "stderr",
     "output_type": "stream",
     "text": [
      "[WARN] [1608666892.448755, 1.151000]: Gym environment done. always_explore = False\n",
      "[WARN] [1608666892.455247, 1.151000]: Agent is dqn\n"
     ]
    },
    {
     "name": "stdout",
     "output_type": "stream",
     "text": [
      "[INFO] [1608666950.964671, 10.184000]: total episode_steps 95, reward -203.02018225193024/-203.02018225193024\n",
      "[INFO] [1608666950.971767, 10.184000]: Episode time 0:00:58, total 0:00:58\n",
      "[INFO] [1608666950.975540, 10.184000]: exploration_rate 0.85\n",
      "[INFO] [1608667069.648507, 18.083000]: total episode_steps 174, reward -700.464840054512/-203.02018225193024\n",
      "[INFO] [1608667069.658013, 18.083000]: Episode time 0:01:58, total 0:02:57\n",
      "[INFO] [1608667069.674631, 18.083000]: exploration_rate 0.85\n"
     ]
    }
   ],
   "source": [
    "import rospy\n",
    "\n",
    "from neuroracer_discrete import NeuroRacer\n",
    "\n",
    "if __name__ == '__main__':\n",
    "\n",
    "    rospy.init_node('neuroracer_qlearn', anonymous=True, log_level=rospy.INFO)\n",
    "\n",
    "    always_explore = False\n",
    "    agent_name = 'dqn'\n",
    "    \n",
    "    module = __import__(agent_name)\n",
    "    agent_class = getattr(module, 'Agent')\n",
    "\n",
    "    game = NeuroRacer(agent_class, \\\n",
    "                      sample_batch_size=1000, \\\n",
    "                      n_frames=16, \\\n",
    "                      buffer_max_size=100000, \\\n",
    "                      chunk_size=20000, \\\n",
    "                      add_flipped=False)\n",
    "    rospy.logwarn(\"Gym environment done. always_explore = \" + str(always_explore))\n",
    "    rospy.logwarn(\"Agent is \" + agent_name)\n",
    "\n",
    "    # Set the logging system\n",
    "    # rospack = rospkg.RosPack()\n",
    "    # pkg_path = rospack.get_path('demo')\n",
    "    # outdir = pkg_path + '/training_results'\n",
    "    # rospy.loginfo(\"Monitor Wrapper started\")\n",
    "\n",
    "    game.run()"
   ]
  },
  {
   "cell_type": "code",
   "execution_count": null,
   "metadata": {},
   "outputs": [],
   "source": []
  }
 ],
 "metadata": {
  "kernelspec": {
   "display_name": "Python 3",
   "language": "python",
   "name": "python3"
  },
  "language_info": {
   "codemirror_mode": {
    "name": "ipython",
    "version": 3
   },
   "file_extension": ".py",
   "mimetype": "text/x-python",
   "name": "python",
   "nbconvert_exporter": "python",
   "pygments_lexer": "ipython3",
   "version": "3.8.5"
  }
 },
 "nbformat": 4,
 "nbformat_minor": 4
}
