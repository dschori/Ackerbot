{
 "cells": [
  {
   "cell_type": "code",
   "execution_count": 1,
   "metadata": {},
   "outputs": [
    {
     "name": "stdout",
     "output_type": "stream",
     "text": [
      "None\n"
     ]
    },
    {
     "name": "stderr",
     "output_type": "stream",
     "text": [
      "[ERROR] [1608729460.610981, 245.699000]: NOT Initialising Simulation Physics Parameters\n",
      "[WARN] [1608729460.629430, 0.012000]: Start Init ControllersConnection\n",
      "[WARN] [1608729460.630830, 0.013000]: END Init ControllersConnection\n"
     ]
    }
   ],
   "source": [
    "import gym\n",
    "import rospy\n",
    "\n",
    "from gym.envs.registration import register\n",
    "\n",
    "rospy.init_node('neuroracer_qlearn', anonymous=True, log_level=rospy.INFO)\n",
    "\n",
    "print(register(\n",
    "        id='NeuroRacer-v0',\n",
    "        entry_point='neuroracer_gym.tasks.neuroracer_discrete_task:NeuroRacerDiscreteTask',\n",
    "        # timestep_limit=timestep_limit_per_episode,\n",
    "    ))\n",
    "env = gym.make('NeuroRacer-v0')"
   ]
  },
  {
   "cell_type": "code",
   "execution_count": null,
   "metadata": {},
   "outputs": [
    {
     "name": "stdout",
     "output_type": "stream",
     "text": [
      "None\n"
     ]
    },
    {
     "name": "stderr",
     "output_type": "stream",
     "text": [
      "[ERROR] [1608731951.385883, 0.000000]: NOT Initialising Simulation Physics Parameters\n",
      "[WARN] [1608731951.390801, 0.000000]: Start Init ControllersConnection\n",
      "[WARN] [1608731951.397947, 0.000000]: END Init ControllersConnection\n"
     ]
    },
    {
     "name": "stdout",
     "output_type": "stream",
     "text": [
      "[INFO] [1608731952.818690, 1.001000]: State size\n",
      "[INFO] [1608731952.820754, 1.002000]: (50, 50, 16)\n",
      "Model: \"sequential\"\n",
      "_________________________________________________________________\n",
      "Layer (type)                 Output Shape              Param #   \n",
      "=================================================================\n",
      "conv2d (Conv2D)              (None, 50, 50, 16)        2320      \n",
      "_________________________________________________________________\n",
      "leaky_re_lu (LeakyReLU)      (None, 50, 50, 16)        0         \n",
      "_________________________________________________________________\n",
      "max_pooling2d (MaxPooling2D) (None, 25, 25, 16)        0         \n",
      "_________________________________________________________________\n",
      "dropout (Dropout)            (None, 25, 25, 16)        0         \n",
      "_________________________________________________________________\n",
      "conv2d_1 (Conv2D)            (None, 25, 25, 32)        4640      \n",
      "_________________________________________________________________\n",
      "leaky_re_lu_1 (LeakyReLU)    (None, 25, 25, 32)        0         \n",
      "_________________________________________________________________\n",
      "dropout_1 (Dropout)          (None, 25, 25, 32)        0         \n",
      "_________________________________________________________________\n",
      "conv2d_2 (Conv2D)            (None, 13, 13, 64)        18496     \n",
      "_________________________________________________________________\n",
      "leaky_re_lu_2 (LeakyReLU)    (None, 13, 13, 64)        0         \n",
      "_________________________________________________________________\n",
      "dropout_2 (Dropout)          (None, 13, 13, 64)        0         \n",
      "_________________________________________________________________\n",
      "flatten (Flatten)            (None, 10816)             0         \n",
      "_________________________________________________________________\n",
      "dense (Dense)                (None, 256)               2769152   \n",
      "_________________________________________________________________\n",
      "leaky_re_lu_3 (LeakyReLU)    (None, 256)               0         \n",
      "_________________________________________________________________\n",
      "dropout_3 (Dropout)          (None, 256)               0         \n",
      "_________________________________________________________________\n",
      "dense_1 (Dense)              (None, 128)               32896     \n",
      "_________________________________________________________________\n",
      "leaky_re_lu_4 (LeakyReLU)    (None, 128)               0         \n",
      "_________________________________________________________________\n",
      "dropout_4 (Dropout)          (None, 128)               0         \n",
      "_________________________________________________________________\n",
      "dense_2 (Dense)              (None, 3)                 387       \n",
      "=================================================================\n",
      "Total params: 2,827,891\n",
      "Trainable params: 2,827,891\n",
      "Non-trainable params: 0\n",
      "_________________________________________________________________\n"
     ]
    },
    {
     "name": "stderr",
     "output_type": "stream",
     "text": [
      "[WARN] [1608731953.045866, 1.002000]: Gym environment done. always_explore = False\n",
      "[WARN] [1608731953.047966, 1.002000]: Agent is dqn\n"
     ]
    },
    {
     "name": "stdout",
     "output_type": "stream",
     "text": [
      "[INFO] [1608731965.218847, 6.023000]: total episode_steps 52, reward -224.52772131562233/-224.52772131562233\n",
      "[INFO] [1608731965.225090, 6.023000]: Episode time 0:00:12, total 0:00:12\n",
      "[INFO] [1608731965.228929, 6.023000]: exploration_rate 0.85\n"
     ]
    }
   ],
   "source": [
    "import rospy\n",
    "\n",
    "from neuroracer_discrete import NeuroRacer\n",
    "\n",
    "if __name__ == '__main__':\n",
    "\n",
    "    rospy.init_node('neuroracer_qlearn', anonymous=True, log_level=rospy.INFO)\n",
    "\n",
    "    always_explore = False\n",
    "    agent_name = 'dqn'\n",
    "    \n",
    "    module = __import__(agent_name)\n",
    "    agent_class = getattr(module, 'Agent')\n",
    "\n",
    "    game = NeuroRacer(agent_class, \\\n",
    "                      sample_batch_size=1000, \\\n",
    "                      n_frames=16, \\\n",
    "                      buffer_max_size=100000, \\\n",
    "                      chunk_size=20000, \\\n",
    "                      add_flipped=False)\n",
    "    rospy.logwarn(\"Gym environment done. always_explore = \" + str(always_explore))\n",
    "    rospy.logwarn(\"Agent is \" + agent_name)\n",
    "\n",
    "    # Set the logging system\n",
    "    # rospack = rospkg.RosPack()\n",
    "    # pkg_path = rospack.get_path('demo')\n",
    "    # outdir = pkg_path + '/training_results'\n",
    "    # rospy.loginfo(\"Monitor Wrapper started\")\n",
    "\n",
    "    game.run()"
   ]
  },
  {
   "cell_type": "code",
   "execution_count": null,
   "metadata": {},
   "outputs": [],
   "source": []
  }
 ],
 "metadata": {
  "kernelspec": {
   "display_name": "Python 3",
   "language": "python",
   "name": "python3"
  },
  "language_info": {
   "codemirror_mode": {
    "name": "ipython",
    "version": 3
   },
   "file_extension": ".py",
   "mimetype": "text/x-python",
   "name": "python",
   "nbconvert_exporter": "python",
   "pygments_lexer": "ipython3",
   "version": "3.8.5"
  }
 },
 "nbformat": 4,
 "nbformat_minor": 4
}
