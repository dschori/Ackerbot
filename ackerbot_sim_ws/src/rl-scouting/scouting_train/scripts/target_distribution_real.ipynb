{
 "cells": [
  {
   "cell_type": "code",
   "execution_count": 1,
   "metadata": {
    "collapsed": true
   },
   "outputs": [
    {
     "name": "stdout",
     "output_type": "stream",
     "text": [
      "processing: d1_1\n",
      "0.06740046314154763\n",
      "processing: d1_2\n",
      "0.044085319362123246\n",
      "processing: d1_3\n",
      "0.03846161928837865\n",
      "processing: d1_4\n",
      "0.052683672239332555\n",
      "processing: d1_5\n",
      "0.030372594769266046\n",
      "processing: d1_6\n",
      "0.08959836163977558\n",
      "processing: d1_7\n",
      "0.057737673661368796\n",
      "processing: d1_8\n",
      "0.05645236276398102\n",
      "processing: d1_9\n",
      "0.04998119630753294\n",
      "processing: d1_10\n",
      "0.07786261276812353\n",
      "processing: d1_11\n",
      "0.07619895460334879\n",
      "processing: d1_12\n",
      "0.047195931894373655\n",
      "processing: d1_13\n",
      "0.06458933971589557\n",
      "processing: d1_14\n",
      "0.06335130971872661\n",
      "processing: d1_15\n",
      "0.06413993000877843\n",
      "processing: d1_1\n",
      "3.940239896775279\n",
      "processing: d1_2\n",
      "3.804362256502689\n",
      "processing: d1_3\n",
      "1.5331875622173168\n",
      "processing: d1_4\n",
      "0.5942925257085382\n",
      "processing: d1_5\n",
      "1.1027505049779738\n",
      "processing: d1_6\n",
      "1.2956080345674805\n",
      "processing: d1_7\n",
      "3.132756918392671\n",
      "processing: d1_8\n",
      "1.300822437992795\n",
      "processing: d1_9\n",
      "1.0488155967471946\n",
      "processing: d1_10\n",
      "0.6265240671118167\n",
      "processing: d1_11\n",
      "1.1676729708593097\n",
      "processing: d1_12\n",
      "1.1992521780975944\n",
      "processing: d1_13\n",
      "0.6021112200669234\n",
      "processing: d1_14\n",
      "1.1564586401172174\n",
      "processing: d1_15\n",
      "0.5947685927807927\n",
      "processing: d2_1\n",
      "0.04411109399425751\n",
      "processing: d2_2\n",
      "0.009320461954435148\n",
      "processing: d2_3\n",
      "processing: d2_4\n",
      "0.028737395711692187\n",
      "processing: d2_5\n",
      "0.032059092939234694\n",
      "processing: d2_6\n",
      "0.022206169542936763\n",
      "processing: d2_7\n",
      "0.03160257271459024\n",
      "processing: d2_8\n",
      "0.03504666740230742\n",
      "processing: d2_9\n",
      "0.05131165667622891\n",
      "processing: d2_10\n",
      "0.019717972868482394\n",
      "processing: d2_11\n",
      "0.030515067532412548\n",
      "processing: d2_12\n",
      "0.028819603609175078\n",
      "processing: d2_13\n",
      "0.01008134872416182\n",
      "processing: d2_14\n",
      "0.033650181546855784\n",
      "processing: d2_15\n",
      "0.04763632928353658\n",
      "processing: d2_1\n",
      "1.1415394305703066\n",
      "processing: d2_2\n",
      "5.806698420554419\n",
      "processing: d2_3\n",
      "1.5999623132616183\n",
      "processing: d2_4\n",
      "5.36512296404355\n",
      "processing: d2_5\n",
      "5.616373240570567\n",
      "processing: d2_6\n",
      "0.8359532500958294\n",
      "processing: d2_7\n",
      "0.4183493547397755\n",
      "processing: d2_8\n",
      "1.864931554529831\n",
      "processing: d2_9\n",
      "1.6226182147658246\n",
      "processing: d2_10\n",
      "5.136552722152569\n",
      "processing: d2_11\n",
      "1.2281883689989324\n",
      "processing: d2_12\n",
      "0.7729014536504534\n",
      "processing: d2_13\n",
      "1.8871835555071976\n",
      "processing: d2_14\n",
      "5.241645415242243\n",
      "processing: d2_15\n",
      "5.507973562262718\n"
     ]
    },
    {
     "name": "stderr",
     "output_type": "stream",
     "text": [
      "/opt/ros/noetic/lib/python3/dist-packages/tf/listener.py:63: UserWarning: translation should be of type Vector3\n",
      "  self._buffer.set_transform(transform, authority)\n",
      "/opt/ros/noetic/lib/python3/dist-packages/tf/listener.py:63: UserWarning: rotation should be of type Quaternion\n",
      "  self._buffer.set_transform(transform, authority)\n",
      "/home/dschori/PycharmProjects/MasterThesis/ackerbot_sim_ws/src/rl-scouting/scouting_train/scripts/tf_bag.py:99: UserWarning: translation should be of type Vector3\n",
      "  self.transformer._buffer.set_transform_static(st_tfm, \"default_authority\")\n",
      "/home/dschori/PycharmProjects/MasterThesis/ackerbot_sim_ws/src/rl-scouting/scouting_train/scripts/tf_bag.py:99: UserWarning: rotation should be of type Quaternion\n",
      "  self.transformer._buffer.set_transform_static(st_tfm, \"default_authority\")\n"
     ]
    }
   ],
   "source": [
    "import rosbag\n",
    "import matplotlib.pyplot as plt\n",
    "import seaborn as sns\n",
    "import math\n",
    "import pandas as pd\n",
    "from tf_bag import BagTfTransformer\n",
    "\n",
    "sns.set_theme(style=\"whitegrid\")\n",
    "\n",
    "directions = [1, 2]\n",
    "approaches = ['teb', 'rl']\n",
    "\n",
    "end_positions = {\n",
    "    1: (-4.2, -4.8),\n",
    "    2: (-1.35, -1.55)\n",
    "}\n",
    "df_list = []\n",
    "for direction in directions:\n",
    "    for approach in approaches:\n",
    "        for i in range(15):\n",
    "            folder = 'd{}_{}'.format(direction, i + 1)\n",
    "            print('processing: {}'.format(folder))\n",
    "            try:\n",
    "                bag = rosbag.Bag('/home/dschori/Documents/new_rosbags/{}/{}/data_0.bag'.format(approach, folder))\n",
    "\n",
    "                bag_transformer = BagTfTransformer(\n",
    "                    '/home/dschori/Documents/new_rosbags/{}/{}/data_0.bag'.format(approach, folder))\n",
    "            except rosbag.bag.ROSBagUnindexedException:\n",
    "                continue\n",
    "\n",
    "            x_s, y_s = [], []\n",
    "\n",
    "            for topic, msg, t in bag.read_messages(topics=['/tf']):\n",
    "                try:\n",
    "                    translation, quaternion = bag_transformer.lookupTransform('map', 'base_link', t)\n",
    "                    x_s.append(translation[0])\n",
    "                    y_s.append(translation[1])\n",
    "                except:\n",
    "                    pass\n",
    "            starting_point = (x_s[0], y_s[0])\n",
    "            ending_point = (x_s[-1], y_s[-1])\n",
    "            df_list.append(\n",
    "                {\n",
    "                    'Approach': approach,\n",
    "                    'Direction': direction,\n",
    "                    'Target Position': end_positions[direction],\n",
    "                    'Actual Position': ending_point,\n",
    "                    'Distance to Target': math.dist(ending_point, end_positions[direction])\n",
    "                }\n",
    "            )\n",
    "            bag.close()\n",
    "\n",
    "data = pd.DataFrame(df_list)"
   ]
  },
  {
   "cell_type": "code",
   "execution_count": 11,
   "outputs": [
    {
     "data": {
      "text/plain": "<Figure size 432x288 with 1 Axes>",
      "image/png": "[encoded data removed]"
     },
     "metadata": {},
     "output_type": "display_data"
    }
   ],
   "source": [
    "ax = sns.violinplot(data=data, x=\"Approach\", y=\"Distance to Target\", hue='Direction',\n",
    "               split=True, inner=\"quart\", linewidth=1,\n",
    "               palette={1: \"b\", 2: \".85\"})\n",
    "ax.set(ylim=(-3., 3.))\n",
    "sns.despine(left=True)\n",
    "\n",
    "plt.show()"
   ],
   "metadata": {
    "collapsed": false,
    "pycharm": {
     "name": "#%%\n"
    }
   }
  },
  {
   "cell_type": "code",
   "execution_count": 10,
   "outputs": [
    {
     "name": "stderr",
     "output_type": "stream",
     "text": [
      "/home/dschori/.local/lib/python3.8/site-packages/seaborn/categorical.py:1296: UserWarning: 41.4% of the points cannot be placed; you may want to decrease the size of the markers or use stripplot.\n",
      "  warnings.warn(msg, UserWarning)\n"
     ]
    },
    {
     "data": {
      "text/plain": "<Figure size 432x288 with 1 Axes>",
      "image/png": "[encoded data removed]"
     },
     "metadata": {},
     "output_type": "display_data"
    }
   ],
   "source": [
    "plt.yscale('log')\n",
    "ax = sns.swarmplot(data=data, x=\"Distance to Target\", y=\"Approach\", hue=\"Direction\",\n",
    "               palette={1: \"b\", 2: \".85\"})"
   ],
   "metadata": {
    "collapsed": false,
    "pycharm": {
     "name": "#%%\n"
    }
   }
  },
  {
   "cell_type": "code",
   "execution_count": 15,
   "outputs": [],
   "source": [
    "import numpy as np\n",
    "log_data = [np.log10(d) for d in data['Distance to Target']]"
   ],
   "metadata": {
    "collapsed": false,
    "pycharm": {
     "name": "#%%log_data = [[np.log10(d) for d in row] for row in data]\n"
    }
   }
  },
  {
   "cell_type": "code",
   "execution_count": 17,
   "outputs": [],
   "source": [
    "data['Distance to Target'] = log_data"
   ],
   "metadata": {
    "collapsed": false,
    "pycharm": {
     "name": "#%%\n"
    }
   }
  },
  {
   "cell_type": "code",
   "execution_count": 40,
   "outputs": [
    {
     "data": {
      "text/plain": "<Figure size 432x288 with 1 Axes>",
      "image/png": "[encoded data removed]"
     },
     "metadata": {},
     "output_type": "display_data"
    }
   ],
   "source": [
    "from matplotlib import ticker as mticker\n",
    "ax = sns.violinplot(data=data, x=\"Approach\", y=\"Distance to Target\", hue='Direction',\n",
    "               split=True, inner=\"quart\", linewidth=1,\n",
    "               palette={1: \"b\", 2: \".85\"})\n",
    "ax.yaxis.set_major_formatter(mticker.StrMethodFormatter(\"$10^{{{x:.0f}}}$\"))\n",
    "ax.yaxis.set_ticks([np.log10(x) for p in range(-6,1) for x in np.linspace(10**p, 10**(p+1), 10)], minor=True)\n",
    "ax.set(ylim=(-3, 2))\n",
    "plt.show()"
   ],
   "metadata": {
    "collapsed": false,
    "pycharm": {
     "name": "#%%\n"
    }
   }
  },
  {
   "cell_type": "code",
   "execution_count": null,
   "outputs": [],
   "source": [],
   "metadata": {
    "collapsed": false,
    "pycharm": {
     "name": "#%%\n"
    }
   }
  }
 ],
 "metadata": {
  "kernelspec": {
   "display_name": "Python 3",
   "language": "python",
   "name": "python3"
  },
  "language_info": {
   "codemirror_mode": {
    "name": "ipython",
    "version": 2
   },
   "file_extension": ".py",
   "mimetype": "text/x-python",
   "name": "python",
   "nbconvert_exporter": "python",
   "pygments_lexer": "ipython2",
   "version": "2.7.6"
  }
 },
 "nbformat": 4,
 "nbformat_minor": 0
}