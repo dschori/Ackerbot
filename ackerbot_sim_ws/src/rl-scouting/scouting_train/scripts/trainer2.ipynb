{
 "cells": [
  {
   "cell_type": "code",
   "execution_count": 1,
   "metadata": {
    "collapsed": true
   },
   "outputs": [
    {
     "name": "stdout",
     "output_type": "stream",
     "text": [
      "WARNING:tensorflow:From /home/dschori/.local/lib/python3.8/site-packages/tensorflow/python/compat/v2_compat.py:96: disable_resource_variables (from tensorflow.python.ops.variable_scope) is deprecated and will be removed in a future version.\n",
      "Instructions for updating:\n",
      "non-resource variables are not supported in the long term\n",
      "None\n"
     ]
    }
   ],
   "source": [
    "import gym\n",
    "import ray\n",
    "from gym.spaces import Discrete, Tuple\n",
    "from ray import tune\n",
    "from ray.rllib.agents.ppo import PPOTrainer\n",
    "from ray.rllib.agents.impala import ImpalaTrainer\n",
    "from ray.rllib.models import ModelCatalog, ModelV2\n",
    "from ray.rllib.models.tf.misc import normc_initializer\n",
    "from ray.rllib.models.utils import get_filter_config\n",
    "from ray.rllib.utils import override\n",
    "from scouting_gym.tasks.scouting_discrete_task import ScoutingDiscreteTask\n",
    "import matplotlib.pyplot as plt\n",
    "import numpy as np\n",
    "import cv2\n",
    "import math"
   ]
  },
  {
   "cell_type": "code",
   "execution_count": 2,
   "outputs": [
    {
     "name": "stderr",
     "output_type": "stream",
     "text": [
      "[ERROR] [1612039915.584919, 0.000000]: NOT Initialising Simulation Physics Parameters\n",
      "[WARN] [1612039915.588153, 0.000000]: Start Init ControllersConnection\n",
      "[WARN] [1612039915.589034, 0.000000]: END Init ControllersConnection\n"
     ]
    },
    {
     "name": "stdout",
     "output_type": "stream",
     "text": [
      "Box(0.0, 1.0, (64, 64, 3), float32)\n"
     ]
    }
   ],
   "source": [
    "env = gym.make('Scouting-v0')\n",
    "\n",
    "print(env.observation_space)"
   ],
   "metadata": {
    "collapsed": false,
    "pycharm": {
     "name": "#%%\n"
    }
   }
  },
  {
   "cell_type": "code",
   "execution_count": 4,
   "outputs": [
    {
     "data": {
      "text/plain": "<matplotlib.image.AxesImage at 0x7fa6d875cc10>"
     },
     "execution_count": 4,
     "metadata": {},
     "output_type": "execute_result"
    },
    {
     "data": {
      "text/plain": "<Figure size 432x288 with 1 Axes>",
      "image/png": "[encoded data removed]"
     },
     "metadata": {
      "needs_background": "light"
     },
     "output_type": "display_data"
    }
   ],
   "source": [
    "obs = env.reset()\n",
    "#obs.max()\n",
    "plt.imshow(obs)"
   ],
   "metadata": {
    "collapsed": false,
    "pycharm": {
     "name": "#%%\n"
    }
   }
  },
  {
   "cell_type": "code",
   "execution_count": 15,
   "outputs": [
    {
     "data": {
      "text/plain": "<matplotlib.image.AxesImage at 0x7f85d4060e50>"
     },
     "execution_count": 15,
     "metadata": {},
     "output_type": "execute_result"
    },
    {
     "data": {
      "text/plain": "<Figure size 432x288 with 1 Axes>",
      "image/png": "[encoded data removed]"
     },
     "metadata": {
      "needs_background": "light"
     },
     "output_type": "display_data"
    }
   ],
   "source": [
    "plt.imshow(obs)"
   ],
   "metadata": {
    "collapsed": false,
    "pycharm": {
     "name": "#%%\n"
    }
   }
  },
  {
   "cell_type": "code",
   "execution_count": 53,
   "outputs": [
    {
     "name": "stdout",
     "output_type": "stream",
     "text": [
      "(5.229581673759228, 0.6538330472345528, -2.5306993423147217, 1.4464158511532421, 5.270296209528873)\n",
      "-62.12486783926328\n",
      "-144.99839153116673 82.87352369190346\n"
     ]
    }
   ],
   "source": [
    "print(obs[1])\n",
    "print(np.rad2deg(obs[1][2]+obs[1][3]))\n",
    "print(np.rad2deg(obs[1][2]), np.rad2deg(obs[1][3]))"
   ],
   "metadata": {
    "collapsed": false,
    "pycharm": {
     "name": "#%%\n"
    }
   }
  },
  {
   "cell_type": "code",
   "execution_count": null,
   "outputs": [],
   "source": [
    "obs = env.reset()\n",
    "plt.figure()\n",
    "thetas = np.linspace(-2.44, 2.44, 18)\n",
    "thetas = np.linspace(-3.14, 3.14, 18)\n",
    "plt.polar(thetas, obs[0])\n",
    "plt.show()"
   ],
   "metadata": {
    "collapsed": false,
    "pycharm": {
     "name": "#%%\n"
    }
   }
  },
  {
   "cell_type": "code",
   "execution_count": 57,
   "outputs": [
    {
     "name": "stdout",
     "output_type": "stream",
     "text": [
      "-3.9306101078701663 -5.35404956676354\n",
      "0 0\n"
     ]
    },
    {
     "data": {
      "text/plain": "<matplotlib.image.AxesImage at 0x7fcdf005ac70>"
     },
     "execution_count": 57,
     "metadata": {},
     "output_type": "execute_result"
    },
    {
     "data": {
      "text/plain": "<Figure size 432x288 with 1 Axes>",
      "image/png": "[encoded data removed]"
     },
     "metadata": {
      "needs_background": "light"
     },
     "output_type": "display_data"
    }
   ],
   "source": [
    "def pol2cart(rho, phi):\n",
    "    x = rho * np.cos(phi)\n",
    "    y = rho * np.sin(phi)\n",
    "    return(x, y)\n",
    "\n",
    "def target_to_pixels(target_x, target_y, angle):\n",
    "\n",
    "    target_x = max(min(target_x, 3.), -3.)\n",
    "    target_y = max(min(target_y, 3.), -3.)\n",
    "    #print(target_x, target_y)\n",
    "    #target_x *= math.cos(angle)\n",
    "    #target_y *= math.sin(angle)\n",
    "    #print(target_x, target_y)\n",
    "    pix_x = int((30. / 3.) * target_x)\n",
    "    pix_y = int((30. / 3.) * target_y)\n",
    "    return pix_x + 30, pix_y + 30\n",
    "\n",
    "def new():\n",
    "    (x, y) = pol2cart(obs[1][4]/2., np.deg2rad(np.rad2deg(obs[1][2])-np.rad2deg(obs[1][3])-0.))\n",
    "    print(x, y)\n",
    "    x, y = target_to_pixels(x, y, 0)\n",
    "    print(x, y)\n",
    "    return x, y\n",
    "\n",
    "pix_x, pix_y = new()\n",
    "#pix_x, pix_y = target_to_pixels(target_x=obs[1][0], target_y=obs[1][1], angle=obs[1][2])\n",
    "image = cv2.circle(obs[0], (pix_x, pix_y), radius=2, color=(55, 55, 0), thickness=2)\n",
    "plt.imshow(image)"
   ],
   "metadata": {
    "collapsed": false,
    "pycharm": {
     "name": "#%%\n"
    }
   }
  },
  {
   "cell_type": "code",
   "execution_count": 14,
   "outputs": [
    {
     "name": "stdout",
     "output_type": "stream",
     "text": [
      "-1.571083390792503\n",
      "-1.5711739642058749\n",
      "-1.5714404355408873\n",
      "-1.5719264246058562\n",
      "-1.5729934689355682\n",
      "-1.573488770766867\n",
      "-1.574326354727129\n",
      "-1.573937760932473\n",
      "-1.5747478970183535\n",
      "-1.5751925892137724\n",
      "-1.5752295261928997\n",
      "-1.5752881145669118\n",
      "-1.5756843832678902\n",
      "-1.5759653393228494\n",
      "-1.5760060603340353\n",
      "-1.5749336004881238\n",
      "-1.5741190234829916\n",
      "-1.574170250232262\n",
      "-1.573990199210411\n",
      "-1.5741552295217982\n",
      "-1.5739745034591521\n",
      "-1.5740593432977052\n",
      "-1.5740299647749543\n",
      "-1.5738852239548997\n",
      "-1.5740111683017572\n",
      "-1.5740856542491797\n",
      "-1.5742307241608937\n",
      "-1.5743860969433852\n",
      "-1.5742613371992642\n",
      "-1.5743677426662022\n",
      "-1.5738888813138576\n",
      "-1.5716378981235986\n",
      "-1.5718773519207054\n",
      "-1.5715332555099928\n",
      "-1.570698190672362\n",
      "-1.5705848176865251\n",
      "-1.5709771360981948\n",
      "-1.5720602065029483\n",
      "-1.572135855620067\n",
      "-1.5726746276020056\n",
      "-1.5725769244431125\n",
      "-1.572765272005607\n",
      "-1.5745874968463083\n",
      "-1.57635349084529\n",
      "-1.5767378604681344\n",
      "-1.5773646503682814\n",
      "-1.5784895289162035\n",
      "-1.5838351240305613\n",
      "-1.5856202084374476\n",
      "-1.5861388870893933\n",
      "0.0\n",
      "0.0\n"
     ]
    }
   ],
   "source": [
    "#env.reset()\n",
    "for _ in range(50):\n",
    "    obs, reward, done, _ = env.step(1)\n",
    "    #obs, reward, done, _ = env.step([0.6, ])\n",
    "print(obs[0].min())\n",
    "print(obs[0].max())\n",
    "\n",
    "#plt.imshow(obs[0].squeeze())"
   ],
   "metadata": {
    "collapsed": false,
    "pycharm": {
     "name": "#%%\n"
    }
   }
  },
  {
   "cell_type": "code",
   "execution_count": 5,
   "outputs": [],
   "source": [
    "#print(obs)\n"
   ],
   "metadata": {
    "collapsed": false,
    "pycharm": {
     "name": "#%%\n"
    }
   }
  },
  {
   "cell_type": "code",
   "execution_count": 5,
   "outputs": [],
   "source": [
    "import tensorflow as tf\n",
    "from ray.rllib.models.tf.tf_modelv2 import TFModelV2\n",
    "\n",
    "class CNNPlusFCConcatModel(TFModelV2):\n",
    "    \"\"\"TFModelV2 concat'ing CNN outputs to flat input(s), followed by FC(s).\n",
    "\n",
    "    Note: This model should be used for complex (Dict or Tuple) observation\n",
    "    spaces that have one or more image components.\n",
    "    \"\"\"\n",
    "\n",
    "    def __init__(self, obs_space, action_space, num_outputs, model_config,\n",
    "                 name):\n",
    "        # TODO: (sven) Support Dicts as well.\n",
    "        assert isinstance(obs_space.original_space, (Tuple)), \\\n",
    "            \"`obs_space.original_space` must be Tuple!\"\n",
    "\n",
    "        super().__init__(obs_space, action_space, num_outputs, model_config,\n",
    "                         name)\n",
    "\n",
    "        # Build the CNN(s) given obs_space's image components.\n",
    "        self.cnns = {}\n",
    "        concat_size = 0\n",
    "        for i, component in enumerate(obs_space.original_space):\n",
    "            # Image space.\n",
    "            if len(component.shape) == 3:\n",
    "                config = {\n",
    "                    \"conv_filters\": [[16, [3, 3], 2], [32, [3, 3], 2], [64, [3, 3], 2], [128, [5, 16], 1]],\n",
    "                    \"conv_activation\": model_config.get(\"conv_activation\"),\n",
    "                }\n",
    "                cnn = ModelCatalog.get_model_v2(\n",
    "                    component,\n",
    "                    action_space,\n",
    "                    num_outputs=None,\n",
    "                    model_config=config,\n",
    "                    framework=\"tf\",\n",
    "                    name=\"cnn_{}\".format(i))\n",
    "                concat_size += cnn.num_outputs\n",
    "                self.cnns[i] = cnn\n",
    "                self.register_variables(cnn.base_model.variables)\n",
    "            # Discrete inputs -> One-hot encode.\n",
    "            elif isinstance(component, Discrete):\n",
    "                concat_size += component.n\n",
    "            # TODO: (sven) Multidiscrete (see e.g. our auto-LSTM wrappers).\n",
    "            # Everything else (1D Box).\n",
    "            else:\n",
    "                assert len(component.shape) == 1, \\\n",
    "                    \"Only input Box 1D or 3D spaces allowed!\"\n",
    "                concat_size += component.shape[-1]\n",
    "\n",
    "        self.logits_and_value_model = None\n",
    "        self._value_out = None\n",
    "        if num_outputs:\n",
    "            # Action-distribution head.\n",
    "            concat_layer = tf.keras.layers.Input((concat_size, ))\n",
    "            logits_layer = tf.keras.layers.Dense(\n",
    "                num_outputs,\n",
    "                activation=tf.keras.activations.linear,\n",
    "                name=\"logits\")(concat_layer)\n",
    "\n",
    "            # Create the value branch model.\n",
    "            value_layer = tf.keras.layers.Dense(\n",
    "                1,\n",
    "                name=\"value_out\",\n",
    "                activation=None,\n",
    "                kernel_initializer=normc_initializer(0.01))(concat_layer)\n",
    "            self.logits_and_value_model = tf.keras.models.Model(\n",
    "                concat_layer, [logits_layer, value_layer])\n",
    "        else:\n",
    "            self.num_outputs = concat_size\n",
    "        self.register_variables(self.logits_and_value_model.variables)\n",
    "\n",
    "    @override(ModelV2)\n",
    "    def forward(self, input_dict, state, seq_lens):\n",
    "        # Push image observations through our CNNs.\n",
    "        outs = []\n",
    "        for i, component in enumerate(input_dict[\"obs\"]):\n",
    "            if i in self.cnns:\n",
    "                cnn_out, _ = self.cnns[i]({\"obs\": component})\n",
    "                outs.append(cnn_out)\n",
    "            else:\n",
    "                outs.append(component)\n",
    "        # Concat all outputs and the non-image inputs.\n",
    "        out = tf.concat(outs, axis=1)\n",
    "        if not self.logits_and_value_model:\n",
    "            return out, []\n",
    "\n",
    "        # Value branch.\n",
    "        logits, values = self.logits_and_value_model(out)\n",
    "        self._value_out = tf.reshape(values, [-1])\n",
    "        return logits, []\n",
    "\n",
    "    @override(ModelV2)\n",
    "    def value_function(self):\n",
    "        return self._value_out\n",
    "\n",
    "ModelCatalog.register_custom_model(\"CNNPlusFCConcatModel\", CNNPlusFCConcatModel)\n",
    "\n",
    "config = {\n",
    "    \"env\": ScoutingDiscreteTask,  # or \"corridor\" if registered above\n",
    "    \"env_config\": {\n",
    "        \"corridor_length\": 5,\n",
    "    },\n",
    "    # Use GPUs iff `RLLIB_NUM_GPUS` env var set to > 0.\n",
    "\n",
    "    \"num_gpus\": 1,\n",
    "    \"num_workers\": 1,  # parallelism\n",
    "    \"model\": {\n",
    "        #\"custom_model\": \"CNNPlusFCConcatModel\",\n",
    "        \"conv_filters\": [[16, [3, 3], 2], [32, [3, 3], 2], [64, [3, 3], 2], [128, [3, 3], 2], [256, [4, 4], 1]],\n",
    "        #\"fcnet_hiddens\": [256, 256, ],\n",
    "        #\"use_lstm\": True,\n",
    "        #\"lstm_cell_size\": 128,\n",
    "        #\"fcnet_hiddens\": tune.grid_search([[64, 64, ], [128, 128, ], [256, 256, ]])\n",
    "    }\n",
    "}\n",
    "\n",
    "stop = {\n",
    "    \"episodes_total\": 4500,\n",
    "}"
   ],
   "metadata": {
    "collapsed": false,
    "pycharm": {
     "name": "#%%\n"
    }
   }
  },
  {
   "cell_type": "code",
   "execution_count": 6,
   "outputs": [
    {
     "name": "stderr",
     "output_type": "stream",
     "text": [
      "2021-01-30 21:52:23,290\tINFO services.py:1171 -- View the Ray dashboard at \u001B[1m\u001B[32mhttp://127.0.0.1:8265\u001B[39m\u001B[22m\n"
     ]
    },
    {
     "data": {
      "text/plain": "{'node_ip_address': '192.168.178.60',\n 'raylet_ip_address': '192.168.178.60',\n 'redis_address': '192.168.178.60:6379',\n 'object_store_address': '/tmp/ray/session_2021-01-30_21-52-22_757400_2869372/sockets/plasma_store',\n 'raylet_socket_name': '/tmp/ray/session_2021-01-30_21-52-22_757400_2869372/sockets/raylet',\n 'webui_url': '127.0.0.1:8265',\n 'session_dir': '/tmp/ray/session_2021-01-30_21-52-22_757400_2869372',\n 'metrics_export_port': 64627,\n 'node_id': '98b123e0af1f7b387d44061558b884a03fc0b0da'}"
     },
     "execution_count": 6,
     "metadata": {},
     "output_type": "execute_result"
    }
   ],
   "source": [
    "ray.init()"
   ],
   "metadata": {
    "collapsed": false,
    "pycharm": {
     "name": "#%%\n"
    }
   }
  },
  {
   "cell_type": "code",
   "execution_count": 7,
   "outputs": [],
   "source": [
    "def train(stop_criteria, config, restorepath):\n",
    "    \"\"\"\n",
    "    Train an RLlib PPO agent using tune until any of the configured stopping criteria is met.\n",
    "    :param stop_criteria: Dict with stopping criteria.\n",
    "        See https://docs.ray.io/en/latest/tune/api_docs/execution.html#tune-run\n",
    "    :return: Return the path to the saved agent (checkpoint) and tune's ExperimentAnalysis object\n",
    "        See https://docs.ray.io/en/latest/tune/api_docs/analysis.html#experimentanalysis-tune-experimentanalysis\n",
    "    \"\"\"\n",
    "    analysis = ray.tune.run(PPOTrainer, config=config,\n",
    "                            stop=stop_criteria,\n",
    "                            checkpoint_freq=1,\n",
    "                            checkpoint_at_end=True)\n",
    "    # list of lists: one list per checkpoint; each checkpoint list contains 1st the path, 2nd the metric value\n",
    "    checkpoints = analysis.get_trial_checkpoints_paths(trial=analysis.get_best_trial('episode_reward_mean', mode='max'),\n",
    "                                                       metric='episode_reward_mean',\n",
    "                                                       )\n",
    "    # retriev the checkpoint path; we only have a single checkpoint, so take the first one\n",
    "    checkpoint_path = checkpoints[0][0]\n",
    "    return checkpoint_path, analysis\n",
    "\n",
    "def load(checkpoint_path, config):\n",
    "    \"\"\"\n",
    "    Load a trained RLlib agent from the specified path. Call this before testing a trained agent.\n",
    "    :param path: Path pointing to the agent's saved checkpoint (only used for RLlib agents)\n",
    "    \"\"\"\n",
    "    agent = PPOTrainer(config=config)\n",
    "    agent.restore(checkpoint_path)\n",
    "    return agent\n",
    "\n",
    "def test(agent, env):\n",
    "    \"\"\"Test trained agent for a single episode. Return the episode reward\"\"\"\n",
    "    # instantiate env class\n",
    "\n",
    "    # run until episode ends\n",
    "    episode_reward = 0\n",
    "    done = False\n",
    "    obs = env.reset()\n",
    "    while not done:\n",
    "        action = agent.compute_action(obs)\n",
    "        obs, reward, done, info = env.step(action)\n",
    "        episode_reward += reward\n",
    "\n",
    "    return episode_reward"
   ],
   "metadata": {
    "collapsed": false,
    "pycharm": {
     "name": "#%%\n"
    }
   }
  },
  {
   "cell_type": "code",
   "execution_count": null,
   "outputs": [
    {
     "data": {
      "text/plain": "<IPython.core.display.HTML object>",
      "text/html": "== Status ==<br>Memory usage on this node: 12.5/31.3 GiB<br>Using FIFO scheduling algorithm.<br>Resources requested: 2/8 CPUs, 1/1 GPUs, 0.0/12.21 GiB heap, 0.0/4.2 GiB objects (0/1.0 accelerator_type:GTX)<br>Result logdir: /home/dschori/ray_results/PPO_2021-01-30_21-52-24<br>Number of trials: 1/1 (1 RUNNING)<br><table>\n<thead>\n<tr><th>Trial name                          </th><th>status  </th><th>loc  </th></tr>\n</thead>\n<tbody>\n<tr><td>PPO_ScoutingDiscreteTask_0e57e_00000</td><td>RUNNING </td><td>     </td></tr>\n</tbody>\n</table><br><br>"
     },
     "metadata": {},
     "output_type": "display_data"
    },
    {
     "name": "stderr",
     "output_type": "stream",
     "text": [
      "\u001B[2m\u001B[36m(pid=2869620)\u001B[0m WARNING:tensorflow:From /home/dschori/.local/lib/python3.8/site-packages/tensorflow/python/compat/v2_compat.py:96: disable_resource_variables (from tensorflow.python.ops.variable_scope) is deprecated and will be removed in a future version.\n",
      "\u001B[2m\u001B[36m(pid=2869620)\u001B[0m Instructions for updating:\n",
      "\u001B[2m\u001B[36m(pid=2869620)\u001B[0m non-resource variables are not supported in the long term\n",
      "\u001B[2m\u001B[36m(pid=2869620)\u001B[0m 2021-01-30 21:52:28,102\tINFO trainer.py:591 -- Tip: set framework=tfe or the --eager flag to enable TensorFlow eager execution\n",
      "\u001B[2m\u001B[36m(pid=2869620)\u001B[0m 2021-01-30 21:52:28,102\tINFO trainer.py:616 -- Current log_level is WARN. For more information, set 'log_level': 'INFO' / 'DEBUG' or use the -v and -vv flags.\n",
      "\u001B[2m\u001B[36m(pid=2869619)\u001B[0m WARNING:tensorflow:From /home/dschori/.local/lib/python3.8/site-packages/tensorflow/python/compat/v2_compat.py:96: disable_resource_variables (from tensorflow.python.ops.variable_scope) is deprecated and will be removed in a future version.\n",
      "\u001B[2m\u001B[36m(pid=2869619)\u001B[0m Instructions for updating:\n",
      "\u001B[2m\u001B[36m(pid=2869619)\u001B[0m non-resource variables are not supported in the long term\n",
      "\u001B[2m\u001B[36m(pid=2869619)\u001B[0m [ERROR] [1612039951.298476, 0.000000]: NOT Initialising Simulation Physics Parameters\n",
      "\u001B[2m\u001B[36m(pid=2869619)\u001B[0m [WARN] [1612039951.301992, 0.000000]: Start Init ControllersConnection\n",
      "\u001B[2m\u001B[36m(pid=2869619)\u001B[0m [WARN] [1612039951.302915, 0.000000]: END Init ControllersConnection\n",
      "\u001B[2m\u001B[36m(pid=2869620)\u001B[0m 2021-01-30 21:52:40,049\tINFO trainable.py:99 -- Trainable.setup took 11.947 seconds. If your trainable is slow to initialize, consider setting reuse_actors=True to reduce actor creation overheads.\n",
      "\u001B[2m\u001B[36m(pid=2869620)\u001B[0m 2021-01-30 21:52:40,049\tWARNING util.py:43 -- Install gputil for GPU system monitoring.\n",
      "\u001B[2m\u001B[36m(pid=2869619)\u001B[0m 2021-01-30 21:52:41,192\tWARNING deprecation.py:29 -- DeprecationWarning: `env_index` has been deprecated. Use `episode.env_id` instead. This will raise an error in the future!\n"
     ]
    },
    {
     "name": "stdout",
     "output_type": "stream",
     "text": [
      "\u001B[2m\u001B[36m(pid=2869620)\u001B[0m None\n",
      "\u001B[2m\u001B[36m(pid=2869619)\u001B[0m None\n"
     ]
    }
   ],
   "source": [
    "checkpoint_path, analysis = train(stop_criteria=stop,\n",
    "                                  config=config,\n",
    "                                  restorepath='/home/dschori/ray_results/PPO_2021-01-29_19-24-46/' \\\n",
    "                  'PPO_ScoutingDiscreteTask_43f0f_00000_0_2021-01-29_19-24-46/' \\\n",
    "                  'checkpoint_272/checkpoint-272')"
   ],
   "metadata": {
    "collapsed": false,
    "pycharm": {
     "name": "#%%\n",
     "is_executing": true
    }
   }
  },
  {
   "cell_type": "code",
   "execution_count": null,
   "outputs": [],
   "source": [
    "checkpoint_path = '/home/dschori/ray_results/PPO_2021-01-29_19-24-46/' \\\n",
    "                  'PPO_ScoutingDiscreteTask_43f0f_00000_0_2021-01-29_19-24-46/' \\\n",
    "                  'checkpoint_272/checkpoint-272'"
   ],
   "metadata": {
    "collapsed": false,
    "pycharm": {
     "name": "#%%\n"
    }
   }
  },
  {
   "cell_type": "code",
   "execution_count": 15,
   "outputs": [
    {
     "name": "stderr",
     "output_type": "stream",
     "text": [
      "\u001B[2m\u001B[36m(pid=2023600)\u001B[0m WARNING:tensorflow:From /home/dschori/.local/lib/python3.8/site-packages/tensorflow/python/compat/v2_compat.py:96: disable_resource_variables (from tensorflow.python.ops.variable_scope) is deprecated and will be removed in a future version.\n",
      "\u001B[2m\u001B[36m(pid=2023600)\u001B[0m Instructions for updating:\n",
      "\u001B[2m\u001B[36m(pid=2023600)\u001B[0m non-resource variables are not supported in the long term\n",
      "2021-01-29 08:46:24,136\tWARNING worker.py:1034 -- Failed to unpickle actor class 'RolloutWorker' for actor ID 88866c7d01000000. Traceback:\n",
      "Traceback (most recent call last):\n",
      "  File \"/home/dschori/.local/lib/python3.8/site-packages/ray/function_manager.py\", line 496, in _load_actor_class_from_gcs\n",
      "    logger.exception(\"Failed to load actor class %s.\", class_name)\n",
      "  File \"/home/dschori/.local/lib/python3.8/site-packages/ray/rllib/__init__.py\", line 5, in <module>\n",
      "    from ray.rllib.env.base_env import BaseEnv\n",
      "  File \"/home/dschori/.local/lib/python3.8/site-packages/ray/rllib/env/__init__.py\", line 1, in <module>\n",
      "    from ray.rllib.env.base_env import BaseEnv\n",
      "  File \"/home/dschori/.local/lib/python3.8/site-packages/ray/rllib/env/base_env.py\", line 3, in <module>\n",
      "    from ray.rllib.env.external_env import ExternalEnv\n",
      "  File \"/home/dschori/.local/lib/python3.8/site-packages/ray/rllib/env/external_env.py\", line 7, in <module>\n",
      "    from ray.rllib.utils.annotations import PublicAPI\n",
      "  File \"/home/dschori/.local/lib/python3.8/site-packages/ray/rllib/utils/__init__.py\", line 18, in <module>\n",
      "    from ray.tune.utils import merge_dicts, deep_update\n",
      "  File \"/home/dschori/.local/lib/python3.8/site-packages/ray/tune/__init__.py\", line 2, in <module>\n",
      "    from ray.tune.tune import run_experiments, run\n",
      "  File \"/home/dschori/.local/lib/python3.8/site-packages/ray/tune/tune.py\", line 10, in <module>\n",
      "    from ray.tune.ray_trial_executor import RayTrialExecutor\n",
      "  File \"/home/dschori/.local/lib/python3.8/site-packages/ray/tune/ray_trial_executor.py\", line 11, in <module>\n",
      "    from ray.exceptions import RayTimeoutError\n",
      "ImportError: cannot import name 'RayTimeoutError' from 'ray.exceptions' (/home/dschori/.local/lib/python3.8/site-packages/ray/exceptions.py)\n",
      "\n",
      "\u001B[2m\u001B[36m(pid=2023600)\u001B[0m 2021-01-29 08:46:24,130\tERROR function_manager.py:498 -- Failed to load actor class RolloutWorker.\n",
      "\u001B[2m\u001B[36m(pid=2023600)\u001B[0m Traceback (most recent call last):\n",
      "\u001B[2m\u001B[36m(pid=2023600)\u001B[0m   File \"/home/dschori/.local/lib/python3.8/site-packages/ray/function_manager.py\", line 496, in _load_actor_class_from_gcs\n",
      "\u001B[2m\u001B[36m(pid=2023600)\u001B[0m     logger.exception(\"Failed to load actor class %s.\", class_name)\n",
      "\u001B[2m\u001B[36m(pid=2023600)\u001B[0m   File \"/home/dschori/.local/lib/python3.8/site-packages/ray/rllib/__init__.py\", line 5, in <module>\n",
      "\u001B[2m\u001B[36m(pid=2023600)\u001B[0m     from ray.rllib.env.base_env import BaseEnv\n",
      "\u001B[2m\u001B[36m(pid=2023600)\u001B[0m   File \"/home/dschori/.local/lib/python3.8/site-packages/ray/rllib/env/__init__.py\", line 1, in <module>\n",
      "\u001B[2m\u001B[36m(pid=2023600)\u001B[0m     from ray.rllib.env.base_env import BaseEnv\n",
      "\u001B[2m\u001B[36m(pid=2023600)\u001B[0m   File \"/home/dschori/.local/lib/python3.8/site-packages/ray/rllib/env/base_env.py\", line 3, in <module>\n",
      "\u001B[2m\u001B[36m(pid=2023600)\u001B[0m     from ray.rllib.env.external_env import ExternalEnv\n",
      "\u001B[2m\u001B[36m(pid=2023600)\u001B[0m   File \"/home/dschori/.local/lib/python3.8/site-packages/ray/rllib/env/external_env.py\", line 7, in <module>\n",
      "\u001B[2m\u001B[36m(pid=2023600)\u001B[0m     from ray.rllib.utils.annotations import PublicAPI\n",
      "\u001B[2m\u001B[36m(pid=2023600)\u001B[0m   File \"/home/dschori/.local/lib/python3.8/site-packages/ray/rllib/utils/__init__.py\", line 18, in <module>\n",
      "\u001B[2m\u001B[36m(pid=2023600)\u001B[0m     from ray.tune.utils import merge_dicts, deep_update\n",
      "\u001B[2m\u001B[36m(pid=2023600)\u001B[0m   File \"/home/dschori/.local/lib/python3.8/site-packages/ray/tune/__init__.py\", line 2, in <module>\n",
      "\u001B[2m\u001B[36m(pid=2023600)\u001B[0m     from ray.tune.tune import run_experiments, run\n",
      "\u001B[2m\u001B[36m(pid=2023600)\u001B[0m   File \"/home/dschori/.local/lib/python3.8/site-packages/ray/tune/tune.py\", line 10, in <module>\n",
      "\u001B[2m\u001B[36m(pid=2023600)\u001B[0m     from ray.tune.ray_trial_executor import RayTrialExecutor\n",
      "\u001B[2m\u001B[36m(pid=2023600)\u001B[0m   File \"/home/dschori/.local/lib/python3.8/site-packages/ray/tune/ray_trial_executor.py\", line 11, in <module>\n",
      "\u001B[2m\u001B[36m(pid=2023600)\u001B[0m     from ray.exceptions import RayTimeoutError\n",
      "\u001B[2m\u001B[36m(pid=2023600)\u001B[0m ImportError: cannot import name 'RayTimeoutError' from 'ray.exceptions' (/home/dschori/.local/lib/python3.8/site-packages/ray/exceptions.py)\n"
     ]
    },
    {
     "name": "stdout",
     "output_type": "stream",
     "text": [
      "\u001B[2m\u001B[36m(pid=2023600)\u001B[0m None\n"
     ]
    },
    {
     "ename": "RayTaskError(AssertionError)",
     "evalue": "\u001B[36mray::RolloutWorker.foreach_policy()\u001B[39m (pid=2023600, ip=192.168.178.60)\n  File \"python/ray/_raylet.pyx\", line 422, in ray._raylet.execute_task\n  File \"python/ray/_raylet.pyx\", line 442, in ray._raylet.execute_task\n  File \"/home/dschori/.local/lib/python3.8/site-packages/ray/serialization.py\", line 310, in deserialize_objects\n    except DeserializationError:\n  File \"/home/dschori/.local/lib/python3.8/site-packages/ray/serialization.py\", line 248, in _deserialize_object\n    # Check if the object should be returned as raw bytes.\n  File \"/home/dschori/.local/lib/python3.8/site-packages/ray/serialization.py\", line 226, in _deserialize_msgpack_data\n    python_objects = []\n  File \"/home/dschori/.local/lib/python3.8/site-packages/ray/serialization.py\", line 216, in _deserialize_pickle5_data\n    obj = pickle.loads(in_band)\n  File \"/home/dschori/.local/lib/python3.8/site-packages/ray/rllib/__init__.py\", line 5, in <module>\n    from ray.rllib.env.base_env import BaseEnv\n  File \"/home/dschori/.local/lib/python3.8/site-packages/ray/rllib/env/__init__.py\", line 11, in <module>\n    from ray.rllib.env.policy_client import PolicyClient\n  File \"/home/dschori/.local/lib/python3.8/site-packages/ray/rllib/env/policy_client.py\", line 13, in <module>\n    from ray.rllib.evaluation.rollout_worker import RolloutWorker\n  File \"/home/dschori/.local/lib/python3.8/site-packages/ray/rllib/evaluation/__init__.py\", line 2, in <module>\n    from ray.rllib.evaluation.rollout_worker import RolloutWorker\n  File \"/home/dschori/.local/lib/python3.8/site-packages/ray/rllib/evaluation/rollout_worker.py\", line 73, in <module>\n    class RolloutWorker(ParallelIteratorWorker):\n  File \"/home/dschori/.local/lib/python3.8/site-packages/ray/rllib/evaluation/rollout_worker.py\", line 607, in RolloutWorker\n    @ray.method(num_return_vals=2)\n  File \"/home/dschori/.local/lib/python3.8/site-packages/ray/actor.py\", line 45, in method\nAssertionError",
     "output_type": "error",
     "traceback": [
      "\u001B[0;31m---------------------------------------------------------------------------\u001B[0m",
      "\u001B[0;31mRayTaskError(AssertionError)\u001B[0m              Traceback (most recent call last)",
      "\u001B[0;32m<ipython-input-15-7650ad861f1f>\u001B[0m in \u001B[0;36m<module>\u001B[0;34m\u001B[0m\n\u001B[0;32m----> 1\u001B[0;31m \u001B[0magent\u001B[0m \u001B[0;34m=\u001B[0m \u001B[0mload\u001B[0m\u001B[0;34m(\u001B[0m\u001B[0mcheckpoint_path\u001B[0m\u001B[0;34m=\u001B[0m\u001B[0mcheckpoint_path\u001B[0m\u001B[0;34m,\u001B[0m \u001B[0mconfig\u001B[0m\u001B[0;34m=\u001B[0m\u001B[0mconfig\u001B[0m\u001B[0;34m)\u001B[0m\u001B[0;34m\u001B[0m\u001B[0;34m\u001B[0m\u001B[0m\n\u001B[0m",
      "\u001B[0;32m<ipython-input-13-8712695bee7b>\u001B[0m in \u001B[0;36mload\u001B[0;34m(checkpoint_path, config)\u001B[0m\n\u001B[1;32m     24\u001B[0m     \u001B[0;34m:\u001B[0m\u001B[0mparam\u001B[0m \u001B[0mpath\u001B[0m\u001B[0;34m:\u001B[0m \u001B[0mPath\u001B[0m \u001B[0mpointing\u001B[0m \u001B[0mto\u001B[0m \u001B[0mthe\u001B[0m \u001B[0magent\u001B[0m\u001B[0;31m'\u001B[0m\u001B[0ms\u001B[0m \u001B[0msaved\u001B[0m \u001B[0mcheckpoint\u001B[0m \u001B[0;34m(\u001B[0m\u001B[0monly\u001B[0m \u001B[0mused\u001B[0m \u001B[0;32mfor\u001B[0m \u001B[0mRLlib\u001B[0m \u001B[0magents\u001B[0m\u001B[0;34m)\u001B[0m\u001B[0;34m\u001B[0m\u001B[0;34m\u001B[0m\u001B[0m\n\u001B[1;32m     25\u001B[0m     \"\"\"\n\u001B[0;32m---> 26\u001B[0;31m     \u001B[0magent\u001B[0m \u001B[0;34m=\u001B[0m \u001B[0mPPOTrainer\u001B[0m\u001B[0;34m(\u001B[0m\u001B[0mconfig\u001B[0m\u001B[0;34m=\u001B[0m\u001B[0mconfig\u001B[0m\u001B[0;34m)\u001B[0m\u001B[0;34m\u001B[0m\u001B[0;34m\u001B[0m\u001B[0m\n\u001B[0m\u001B[1;32m     27\u001B[0m     \u001B[0magent\u001B[0m\u001B[0;34m.\u001B[0m\u001B[0mrestore\u001B[0m\u001B[0;34m(\u001B[0m\u001B[0mcheckpoint_path\u001B[0m\u001B[0;34m)\u001B[0m\u001B[0;34m\u001B[0m\u001B[0;34m\u001B[0m\u001B[0m\n\u001B[1;32m     28\u001B[0m     \u001B[0;32mreturn\u001B[0m \u001B[0magent\u001B[0m\u001B[0;34m\u001B[0m\u001B[0;34m\u001B[0m\u001B[0m\n",
      "\u001B[0;32m~/.local/lib/python3.8/site-packages/ray/rllib/agents/trainer_template.py\u001B[0m in \u001B[0;36m__init__\u001B[0;34m(self, config, env, logger_creator)\u001B[0m\n\u001B[1;32m    104\u001B[0m             \u001B[0mself\u001B[0m\u001B[0;34m.\u001B[0m\u001B[0mtrain_exec_impl\u001B[0m \u001B[0;34m=\u001B[0m \u001B[0mexecution_plan\u001B[0m\u001B[0;34m(\u001B[0m\u001B[0mself\u001B[0m\u001B[0;34m.\u001B[0m\u001B[0mworkers\u001B[0m\u001B[0;34m,\u001B[0m \u001B[0mconfig\u001B[0m\u001B[0;34m)\u001B[0m\u001B[0;34m\u001B[0m\u001B[0;34m\u001B[0m\u001B[0m\n\u001B[1;32m    105\u001B[0m             \u001B[0;32mif\u001B[0m \u001B[0mafter_init\u001B[0m\u001B[0;34m:\u001B[0m\u001B[0;34m\u001B[0m\u001B[0;34m\u001B[0m\u001B[0m\n\u001B[0;32m--> 106\u001B[0;31m                 \u001B[0mafter_init\u001B[0m\u001B[0;34m(\u001B[0m\u001B[0mself\u001B[0m\u001B[0;34m)\u001B[0m\u001B[0;34m\u001B[0m\u001B[0;34m\u001B[0m\u001B[0m\n\u001B[0m\u001B[1;32m    107\u001B[0m \u001B[0;34m\u001B[0m\u001B[0m\n\u001B[1;32m    108\u001B[0m         \u001B[0;34m@\u001B[0m\u001B[0moverride\u001B[0m\u001B[0;34m(\u001B[0m\u001B[0mTrainer\u001B[0m\u001B[0;34m)\u001B[0m\u001B[0;34m\u001B[0m\u001B[0;34m\u001B[0m\u001B[0m\n",
      "\u001B[0;32m~/.local/lib/python3.8/site-packages/ray/rllib/agents/trainer.py\u001B[0m in \u001B[0;36m__init__\u001B[0;34m(self, config, env, logger_creator)\u001B[0m\n\u001B[1;32m    463\u001B[0m             \u001B[0mtimestr\u001B[0m \u001B[0;34m=\u001B[0m \u001B[0mdatetime\u001B[0m\u001B[0;34m.\u001B[0m\u001B[0mtoday\u001B[0m\u001B[0;34m(\u001B[0m\u001B[0;34m)\u001B[0m\u001B[0;34m.\u001B[0m\u001B[0mstrftime\u001B[0m\u001B[0;34m(\u001B[0m\u001B[0;34m\"%Y-%m-%d_%H-%M-%S\"\u001B[0m\u001B[0;34m)\u001B[0m\u001B[0;34m\u001B[0m\u001B[0;34m\u001B[0m\u001B[0m\n\u001B[1;32m    464\u001B[0m             logdir_prefix = \"{}_{}_{}\".format(self._name, self._env_id,\n\u001B[0;32m--> 465\u001B[0;31m                                               timestr)\n\u001B[0m\u001B[1;32m    466\u001B[0m \u001B[0;34m\u001B[0m\u001B[0m\n\u001B[1;32m    467\u001B[0m             \u001B[0;32mdef\u001B[0m \u001B[0mdefault_logger_creator\u001B[0m\u001B[0;34m(\u001B[0m\u001B[0mconfig\u001B[0m\u001B[0;34m)\u001B[0m\u001B[0;34m:\u001B[0m\u001B[0;34m\u001B[0m\u001B[0;34m\u001B[0m\u001B[0m\n",
      "\u001B[0;32m~/.local/lib/python3.8/site-packages/ray/tune/trainable.py\u001B[0m in \u001B[0;36m__init__\u001B[0;34m(self, config, logger_creator)\u001B[0m\n\u001B[1;32m     94\u001B[0m             \u001B[0mFileNotFoundError\u001B[0m \u001B[0;32mif\u001B[0m \u001B[0mthe\u001B[0m \u001B[0mdirectory\u001B[0m \u001B[0;32mis\u001B[0m \u001B[0;32mnot\u001B[0m \u001B[0mfound\u001B[0m\u001B[0;34m.\u001B[0m\u001B[0;34m\u001B[0m\u001B[0;34m\u001B[0m\u001B[0m\n\u001B[1;32m     95\u001B[0m         \"\"\"\n\u001B[0;32m---> 96\u001B[0;31m         \u001B[0;32mif\u001B[0m \u001B[0;32mnot\u001B[0m \u001B[0mos\u001B[0m\u001B[0;34m.\u001B[0m\u001B[0mpath\u001B[0m\u001B[0;34m.\u001B[0m\u001B[0mexists\u001B[0m\u001B[0;34m(\u001B[0m\u001B[0mcheckpoint_path\u001B[0m\u001B[0;34m)\u001B[0m\u001B[0;34m:\u001B[0m\u001B[0;34m\u001B[0m\u001B[0;34m\u001B[0m\u001B[0m\n\u001B[0m\u001B[1;32m     97\u001B[0m             \u001B[0;32mraise\u001B[0m \u001B[0mFileNotFoundError\u001B[0m\u001B[0;34m(\u001B[0m\u001B[0;34m\"Path does not exist\"\u001B[0m\u001B[0;34m,\u001B[0m \u001B[0mcheckpoint_path\u001B[0m\u001B[0;34m)\u001B[0m\u001B[0;34m\u001B[0m\u001B[0;34m\u001B[0m\u001B[0m\n\u001B[1;32m     98\u001B[0m         \u001B[0;32mif\u001B[0m \u001B[0mos\u001B[0m\u001B[0;34m.\u001B[0m\u001B[0mpath\u001B[0m\u001B[0;34m.\u001B[0m\u001B[0misdir\u001B[0m\u001B[0;34m(\u001B[0m\u001B[0mcheckpoint_path\u001B[0m\u001B[0;34m)\u001B[0m\u001B[0;34m:\u001B[0m\u001B[0;34m\u001B[0m\u001B[0;34m\u001B[0m\u001B[0m\n",
      "\u001B[0;32m~/.local/lib/python3.8/site-packages/ray/rllib/agents/trainer.py\u001B[0m in \u001B[0;36msetup\u001B[0;34m(self, config)\u001B[0m\n\u001B[1;32m    627\u001B[0m         \u001B[0mself\u001B[0m\u001B[0;34m.\u001B[0m\u001B[0mcallbacks\u001B[0m \u001B[0;34m=\u001B[0m \u001B[0mself\u001B[0m\u001B[0;34m.\u001B[0m\u001B[0mconfig\u001B[0m\u001B[0;34m[\u001B[0m\u001B[0;34m\"callbacks\"\u001B[0m\u001B[0;34m]\u001B[0m\u001B[0;34m(\u001B[0m\u001B[0;34m)\u001B[0m\u001B[0;34m\u001B[0m\u001B[0;34m\u001B[0m\u001B[0m\n\u001B[1;32m    628\u001B[0m         \u001B[0mlog_level\u001B[0m \u001B[0;34m=\u001B[0m \u001B[0mself\u001B[0m\u001B[0;34m.\u001B[0m\u001B[0mconfig\u001B[0m\u001B[0;34m.\u001B[0m\u001B[0mget\u001B[0m\u001B[0;34m(\u001B[0m\u001B[0;34m\"log_level\"\u001B[0m\u001B[0;34m)\u001B[0m\u001B[0;34m\u001B[0m\u001B[0;34m\u001B[0m\u001B[0m\n\u001B[0;32m--> 629\u001B[0;31m         \u001B[0;32mif\u001B[0m \u001B[0mlog_level\u001B[0m \u001B[0;32min\u001B[0m \u001B[0;34m[\u001B[0m\u001B[0;34m\"WARN\"\u001B[0m\u001B[0;34m,\u001B[0m \u001B[0;34m\"ERROR\"\u001B[0m\u001B[0;34m]\u001B[0m\u001B[0;34m:\u001B[0m\u001B[0;34m\u001B[0m\u001B[0;34m\u001B[0m\u001B[0m\n\u001B[0m\u001B[1;32m    630\u001B[0m             logger.info(\"Current log_level is {}. For more information, \"\n\u001B[1;32m    631\u001B[0m                         \u001B[0;34m\"set 'log_level': 'INFO' / 'DEBUG' or use the -v and \"\u001B[0m\u001B[0;34m\u001B[0m\u001B[0;34m\u001B[0m\u001B[0m\n",
      "\u001B[0;32m~/.local/lib/python3.8/site-packages/ray/rllib/agents/trainer_template.py\u001B[0m in \u001B[0;36m_init\u001B[0;34m(self, config, env_creator)\u001B[0m\n\u001B[1;32m    131\u001B[0m \u001B[0;34m\u001B[0m\u001B[0m\n\u001B[1;32m    132\u001B[0m         \u001B[0mArguments\u001B[0m\u001B[0;34m:\u001B[0m\u001B[0;34m\u001B[0m\u001B[0;34m\u001B[0m\u001B[0m\n\u001B[0;32m--> 133\u001B[0;31m             \u001B[0moverrides\u001B[0m \u001B[0;34m(\u001B[0m\u001B[0mdict\u001B[0m\u001B[0;34m)\u001B[0m\u001B[0;34m:\u001B[0m \u001B[0muse\u001B[0m \u001B[0mthis\u001B[0m \u001B[0mto\u001B[0m \u001B[0moverride\u001B[0m \u001B[0many\u001B[0m \u001B[0mof\u001B[0m \u001B[0mthe\u001B[0m \u001B[0marguments\u001B[0m\u001B[0;34m\u001B[0m\u001B[0;34m\u001B[0m\u001B[0m\n\u001B[0m\u001B[1;32m    134\u001B[0m                 \u001B[0moriginally\u001B[0m \u001B[0mpassed\u001B[0m \u001B[0mto\u001B[0m \u001B[0mbuild_trainer\u001B[0m\u001B[0;34m(\u001B[0m\u001B[0;34m)\u001B[0m \u001B[0;32mfor\u001B[0m \u001B[0mthis\u001B[0m \u001B[0mpolicy\u001B[0m\u001B[0;34m.\u001B[0m\u001B[0;34m\u001B[0m\u001B[0;34m\u001B[0m\u001B[0m\n\u001B[1;32m    135\u001B[0m         \"\"\"\n",
      "\u001B[0;32m~/.local/lib/python3.8/site-packages/ray/rllib/agents/trainer.py\u001B[0m in \u001B[0;36m_make_workers\u001B[0;34m(self, env_creator, validate_env, policy_class, config, num_workers)\u001B[0m\n\u001B[1;32m    698\u001B[0m                 \u001B[0mconfig\u001B[0m\u001B[0;34m.\u001B[0m\u001B[0;34m\u001B[0m\u001B[0;34m\u001B[0m\u001B[0m\n\u001B[1;32m    699\u001B[0m             \u001B[0mpolicy\u001B[0m \u001B[0;34m(\u001B[0m\u001B[0;32mclass\u001B[0m\u001B[0;34m)\u001B[0m\u001B[0;34m:\u001B[0m \u001B[0mThe\u001B[0m \u001B[0mPolicy\u001B[0m \u001B[0;32mclass\u001B[0m \u001B[0mto\u001B[0m \u001B[0muse\u001B[0m \u001B[0;32mfor\u001B[0m \u001B[0mcreating\u001B[0m \u001B[0mthe\u001B[0m \u001B[0mpolicies\u001B[0m\u001B[0;34m\u001B[0m\u001B[0;34m\u001B[0m\u001B[0m\n\u001B[0;32m--> 700\u001B[0;31m                 \u001B[0mof\u001B[0m \u001B[0mthe\u001B[0m \u001B[0mworkers\u001B[0m\u001B[0;34m.\u001B[0m\u001B[0;34m\u001B[0m\u001B[0;34m\u001B[0m\u001B[0m\n\u001B[0m\u001B[1;32m    701\u001B[0m             \u001B[0mconfig\u001B[0m \u001B[0;34m(\u001B[0m\u001B[0mdict\u001B[0m\u001B[0;34m)\u001B[0m\u001B[0;34m:\u001B[0m \u001B[0mThe\u001B[0m \u001B[0mTrainer\u001B[0m\u001B[0;31m'\u001B[0m\u001B[0ms\u001B[0m \u001B[0mconfig\u001B[0m\u001B[0;34m.\u001B[0m\u001B[0;34m\u001B[0m\u001B[0;34m\u001B[0m\u001B[0m\n\u001B[1;32m    702\u001B[0m             \u001B[0mnum_workers\u001B[0m \u001B[0;34m(\u001B[0m\u001B[0mint\u001B[0m\u001B[0;34m)\u001B[0m\u001B[0;34m:\u001B[0m \u001B[0mNumber\u001B[0m \u001B[0mof\u001B[0m \u001B[0mremote\u001B[0m \u001B[0mrollout\u001B[0m \u001B[0mworkers\u001B[0m \u001B[0mto\u001B[0m \u001B[0mcreate\u001B[0m\u001B[0;34m.\u001B[0m\u001B[0;34m\u001B[0m\u001B[0;34m\u001B[0m\u001B[0m\n",
      "\u001B[0;32m~/.local/lib/python3.8/site-packages/ray/rllib/evaluation/worker_set.py\u001B[0m in \u001B[0;36m__init__\u001B[0;34m(self, env_creator, validate_env, policy_class, trainer_config, num_workers, logdir, _setup)\u001B[0m\n\u001B[1;32m     77\u001B[0m     \u001B[0;32mdef\u001B[0m \u001B[0mremote_workers\u001B[0m\u001B[0;34m(\u001B[0m\u001B[0mself\u001B[0m\u001B[0;34m)\u001B[0m \u001B[0;34m->\u001B[0m \u001B[0mList\u001B[0m\u001B[0;34m[\u001B[0m\u001B[0;34m\"ActorHandle\"\u001B[0m\u001B[0;34m]\u001B[0m\u001B[0;34m:\u001B[0m\u001B[0;34m\u001B[0m\u001B[0;34m\u001B[0m\u001B[0m\n\u001B[1;32m     78\u001B[0m         \u001B[0;34m\"\"\"Return a list of remote rollout workers.\"\"\"\u001B[0m\u001B[0;34m\u001B[0m\u001B[0;34m\u001B[0m\u001B[0m\n\u001B[0;32m---> 79\u001B[0;31m         \u001B[0;32mreturn\u001B[0m \u001B[0mself\u001B[0m\u001B[0;34m.\u001B[0m\u001B[0m_remote_workers\u001B[0m\u001B[0;34m\u001B[0m\u001B[0;34m\u001B[0m\u001B[0m\n\u001B[0m\u001B[1;32m     80\u001B[0m \u001B[0;34m\u001B[0m\u001B[0m\n\u001B[1;32m     81\u001B[0m     \u001B[0;32mdef\u001B[0m \u001B[0msync_weights\u001B[0m\u001B[0;34m(\u001B[0m\u001B[0mself\u001B[0m\u001B[0;34m)\u001B[0m \u001B[0;34m->\u001B[0m \u001B[0;32mNone\u001B[0m\u001B[0;34m:\u001B[0m\u001B[0;34m\u001B[0m\u001B[0;34m\u001B[0m\u001B[0m\n",
      "\u001B[0;32m~/.local/lib/python3.8/site-packages/ray/worker.py\u001B[0m in \u001B[0;36mget\u001B[0;34m(object_refs, timeout)\u001B[0m\n\u001B[1;32m   1377\u001B[0m             \u001B[0mworker\u001B[0m\u001B[0;34m.\u001B[0m\u001B[0mprinter_thread\u001B[0m\u001B[0;34m.\u001B[0m\u001B[0mjoin\u001B[0m\u001B[0;34m(\u001B[0m\u001B[0;34m)\u001B[0m\u001B[0;34m\u001B[0m\u001B[0;34m\u001B[0m\u001B[0m\n\u001B[1;32m   1378\u001B[0m         \u001B[0;32mif\u001B[0m \u001B[0mhasattr\u001B[0m\u001B[0;34m(\u001B[0m\u001B[0mworker\u001B[0m\u001B[0;34m,\u001B[0m \u001B[0;34m\"logger_thread\"\u001B[0m\u001B[0;34m)\u001B[0m\u001B[0;34m:\u001B[0m\u001B[0;34m\u001B[0m\u001B[0;34m\u001B[0m\u001B[0m\n\u001B[0;32m-> 1379\u001B[0;31m             \u001B[0mworker\u001B[0m\u001B[0;34m.\u001B[0m\u001B[0mlogger_thread\u001B[0m\u001B[0;34m.\u001B[0m\u001B[0mjoin\u001B[0m\u001B[0;34m(\u001B[0m\u001B[0;34m)\u001B[0m\u001B[0;34m\u001B[0m\u001B[0;34m\u001B[0m\u001B[0m\n\u001B[0m\u001B[1;32m   1380\u001B[0m         \u001B[0mworker\u001B[0m\u001B[0;34m.\u001B[0m\u001B[0mthreads_stopped\u001B[0m\u001B[0;34m.\u001B[0m\u001B[0mclear\u001B[0m\u001B[0;34m(\u001B[0m\u001B[0;34m)\u001B[0m\u001B[0;34m\u001B[0m\u001B[0;34m\u001B[0m\u001B[0m\n\u001B[1;32m   1381\u001B[0m         \u001B[0mworker\u001B[0m\u001B[0;34m.\u001B[0m\u001B[0m_session_index\u001B[0m \u001B[0;34m+=\u001B[0m \u001B[0;36m1\u001B[0m\u001B[0;34m\u001B[0m\u001B[0;34m\u001B[0m\u001B[0m\n",
      "\u001B[0;31mRayTaskError(AssertionError)\u001B[0m: \u001B[36mray::RolloutWorker.foreach_policy()\u001B[39m (pid=2023600, ip=192.168.178.60)\n  File \"python/ray/_raylet.pyx\", line 422, in ray._raylet.execute_task\n  File \"python/ray/_raylet.pyx\", line 442, in ray._raylet.execute_task\n  File \"/home/dschori/.local/lib/python3.8/site-packages/ray/serialization.py\", line 310, in deserialize_objects\n    except DeserializationError:\n  File \"/home/dschori/.local/lib/python3.8/site-packages/ray/serialization.py\", line 248, in _deserialize_object\n    # Check if the object should be returned as raw bytes.\n  File \"/home/dschori/.local/lib/python3.8/site-packages/ray/serialization.py\", line 226, in _deserialize_msgpack_data\n    python_objects = []\n  File \"/home/dschori/.local/lib/python3.8/site-packages/ray/serialization.py\", line 216, in _deserialize_pickle5_data\n    obj = pickle.loads(in_band)\n  File \"/home/dschori/.local/lib/python3.8/site-packages/ray/rllib/__init__.py\", line 5, in <module>\n    from ray.rllib.env.base_env import BaseEnv\n  File \"/home/dschori/.local/lib/python3.8/site-packages/ray/rllib/env/__init__.py\", line 11, in <module>\n    from ray.rllib.env.policy_client import PolicyClient\n  File \"/home/dschori/.local/lib/python3.8/site-packages/ray/rllib/env/policy_client.py\", line 13, in <module>\n    from ray.rllib.evaluation.rollout_worker import RolloutWorker\n  File \"/home/dschori/.local/lib/python3.8/site-packages/ray/rllib/evaluation/__init__.py\", line 2, in <module>\n    from ray.rllib.evaluation.rollout_worker import RolloutWorker\n  File \"/home/dschori/.local/lib/python3.8/site-packages/ray/rllib/evaluation/rollout_worker.py\", line 73, in <module>\n    class RolloutWorker(ParallelIteratorWorker):\n  File \"/home/dschori/.local/lib/python3.8/site-packages/ray/rllib/evaluation/rollout_worker.py\", line 607, in RolloutWorker\n    @ray.method(num_return_vals=2)\n  File \"/home/dschori/.local/lib/python3.8/site-packages/ray/actor.py\", line 45, in method\nAssertionError"
     ]
    }
   ],
   "source": [
    "agent = load(checkpoint_path=checkpoint_path, config=config)"
   ],
   "metadata": {
    "collapsed": false,
    "pycharm": {
     "name": "#%%\n"
    }
   }
  },
  {
   "cell_type": "code",
   "execution_count": 8,
   "outputs": [
    {
     "ename": "ValueError",
     "evalue": "('Observation for a Box/MultiBinary/MultiDiscrete space should be an np.array, not a Python list.', (array([3.99, 3.99, 3.99, 3.99, 3.99, 3.99, 3.99, 3.99, 3.99, 3.99, 3.99,\n       3.99, 3.99, 3.99, 3.99, 3.99, 3.99, 3.99], dtype=float32), array([9.99      , 0.22813019]), array([-1.,  1.])))",
     "output_type": "error",
     "traceback": [
      "\u001B[0;31m---------------------------------------------------------------------------\u001B[0m",
      "\u001B[0;31mAttributeError\u001B[0m                            Traceback (most recent call last)",
      "\u001B[0;32m~/.local/lib/python3.8/site-packages/ray/rllib/models/preprocessors.py\u001B[0m in \u001B[0;36mcheck_shape\u001B[0;34m(self, observation)\u001B[0m\n\u001B[1;32m     61\u001B[0m             \u001B[0;32mtry\u001B[0m\u001B[0;34m:\u001B[0m\u001B[0;34m\u001B[0m\u001B[0;34m\u001B[0m\u001B[0m\n\u001B[0;32m---> 62\u001B[0;31m                 \u001B[0;32mif\u001B[0m \u001B[0;32mnot\u001B[0m \u001B[0mself\u001B[0m\u001B[0;34m.\u001B[0m\u001B[0m_obs_space\u001B[0m\u001B[0;34m.\u001B[0m\u001B[0mcontains\u001B[0m\u001B[0;34m(\u001B[0m\u001B[0mobservation\u001B[0m\u001B[0;34m)\u001B[0m\u001B[0;34m:\u001B[0m\u001B[0;34m\u001B[0m\u001B[0;34m\u001B[0m\u001B[0m\n\u001B[0m\u001B[1;32m     63\u001B[0m                     raise ValueError(\n",
      "\u001B[0;32m/usr/local/lib/python3.8/dist-packages/gym/spaces/box.py\u001B[0m in \u001B[0;36mcontains\u001B[0;34m(self, x)\u001B[0m\n\u001B[1;32m    127\u001B[0m             \u001B[0mx\u001B[0m \u001B[0;34m=\u001B[0m \u001B[0mnp\u001B[0m\u001B[0;34m.\u001B[0m\u001B[0marray\u001B[0m\u001B[0;34m(\u001B[0m\u001B[0mx\u001B[0m\u001B[0;34m)\u001B[0m  \u001B[0;31m# Promote list to array for contains check\u001B[0m\u001B[0;34m\u001B[0m\u001B[0;34m\u001B[0m\u001B[0m\n\u001B[0;32m--> 128\u001B[0;31m         \u001B[0;32mreturn\u001B[0m \u001B[0mx\u001B[0m\u001B[0;34m.\u001B[0m\u001B[0mshape\u001B[0m \u001B[0;34m==\u001B[0m \u001B[0mself\u001B[0m\u001B[0;34m.\u001B[0m\u001B[0mshape\u001B[0m \u001B[0;32mand\u001B[0m \u001B[0mnp\u001B[0m\u001B[0;34m.\u001B[0m\u001B[0mall\u001B[0m\u001B[0;34m(\u001B[0m\u001B[0mx\u001B[0m \u001B[0;34m>=\u001B[0m \u001B[0mself\u001B[0m\u001B[0;34m.\u001B[0m\u001B[0mlow\u001B[0m\u001B[0;34m)\u001B[0m \u001B[0;32mand\u001B[0m \u001B[0mnp\u001B[0m\u001B[0;34m.\u001B[0m\u001B[0mall\u001B[0m\u001B[0;34m(\u001B[0m\u001B[0mx\u001B[0m \u001B[0;34m<=\u001B[0m \u001B[0mself\u001B[0m\u001B[0;34m.\u001B[0m\u001B[0mhigh\u001B[0m\u001B[0;34m)\u001B[0m\u001B[0;34m\u001B[0m\u001B[0;34m\u001B[0m\u001B[0m\n\u001B[0m\u001B[1;32m    129\u001B[0m \u001B[0;34m\u001B[0m\u001B[0m\n",
      "\u001B[0;31mAttributeError\u001B[0m: 'tuple' object has no attribute 'shape'",
      "\nDuring handling of the above exception, another exception occurred:\n",
      "\u001B[0;31mValueError\u001B[0m                                Traceback (most recent call last)",
      "\u001B[0;32m<ipython-input-8-d77bb593b827>\u001B[0m in \u001B[0;36m<module>\u001B[0;34m\u001B[0m\n\u001B[0;32m----> 1\u001B[0;31m \u001B[0mepisode_reward\u001B[0m \u001B[0;34m=\u001B[0m \u001B[0mtest\u001B[0m\u001B[0;34m(\u001B[0m\u001B[0magent\u001B[0m\u001B[0;34m=\u001B[0m\u001B[0magent\u001B[0m\u001B[0;34m,\u001B[0m \u001B[0menv\u001B[0m\u001B[0;34m=\u001B[0m\u001B[0menv\u001B[0m\u001B[0;34m)\u001B[0m\u001B[0;34m\u001B[0m\u001B[0;34m\u001B[0m\u001B[0m\n\u001B[0m\u001B[1;32m      2\u001B[0m \u001B[0mepisode_reward\u001B[0m\u001B[0;34m\u001B[0m\u001B[0;34m\u001B[0m\u001B[0m\n\u001B[1;32m      3\u001B[0m \u001B[0;34m\u001B[0m\u001B[0m\n",
      "\u001B[0;32m<ipython-input-5-8712695bee7b>\u001B[0m in \u001B[0;36mtest\u001B[0;34m(agent, env)\u001B[0m\n\u001B[1;32m     37\u001B[0m     \u001B[0mobs\u001B[0m \u001B[0;34m=\u001B[0m \u001B[0menv\u001B[0m\u001B[0;34m.\u001B[0m\u001B[0mreset\u001B[0m\u001B[0;34m(\u001B[0m\u001B[0;34m)\u001B[0m\u001B[0;34m\u001B[0m\u001B[0;34m\u001B[0m\u001B[0m\n\u001B[1;32m     38\u001B[0m     \u001B[0;32mwhile\u001B[0m \u001B[0;32mnot\u001B[0m \u001B[0mdone\u001B[0m\u001B[0;34m:\u001B[0m\u001B[0;34m\u001B[0m\u001B[0;34m\u001B[0m\u001B[0m\n\u001B[0;32m---> 39\u001B[0;31m         \u001B[0maction\u001B[0m \u001B[0;34m=\u001B[0m \u001B[0magent\u001B[0m\u001B[0;34m.\u001B[0m\u001B[0mcompute_action\u001B[0m\u001B[0;34m(\u001B[0m\u001B[0mobs\u001B[0m\u001B[0;34m)\u001B[0m\u001B[0;34m\u001B[0m\u001B[0;34m\u001B[0m\u001B[0m\n\u001B[0m\u001B[1;32m     40\u001B[0m         \u001B[0mobs\u001B[0m\u001B[0;34m,\u001B[0m \u001B[0mreward\u001B[0m\u001B[0;34m,\u001B[0m \u001B[0mdone\u001B[0m\u001B[0;34m,\u001B[0m \u001B[0minfo\u001B[0m \u001B[0;34m=\u001B[0m \u001B[0menv\u001B[0m\u001B[0;34m.\u001B[0m\u001B[0mstep\u001B[0m\u001B[0;34m(\u001B[0m\u001B[0maction\u001B[0m\u001B[0;34m)\u001B[0m\u001B[0;34m\u001B[0m\u001B[0;34m\u001B[0m\u001B[0m\n\u001B[1;32m     41\u001B[0m         \u001B[0mepisode_reward\u001B[0m \u001B[0;34m+=\u001B[0m \u001B[0mreward\u001B[0m\u001B[0;34m\u001B[0m\u001B[0;34m\u001B[0m\u001B[0m\n",
      "\u001B[0;32m~/.local/lib/python3.8/site-packages/ray/rllib/agents/trainer.py\u001B[0m in \u001B[0;36mcompute_action\u001B[0;34m(self, observation, state, prev_action, prev_reward, info, policy_id, full_fetch, explore)\u001B[0m\n\u001B[1;32m    816\u001B[0m         \u001B[0;32mif\u001B[0m \u001B[0mstate\u001B[0m \u001B[0;32mis\u001B[0m \u001B[0;32mNone\u001B[0m\u001B[0;34m:\u001B[0m\u001B[0;34m\u001B[0m\u001B[0;34m\u001B[0m\u001B[0m\n\u001B[1;32m    817\u001B[0m             \u001B[0mstate\u001B[0m \u001B[0;34m=\u001B[0m \u001B[0;34m[\u001B[0m\u001B[0;34m]\u001B[0m\u001B[0;34m\u001B[0m\u001B[0;34m\u001B[0m\u001B[0m\n\u001B[0;32m--> 818\u001B[0;31m         preprocessed = self.workers.local_worker().preprocessors[\n\u001B[0m\u001B[1;32m    819\u001B[0m             policy_id].transform(observation)\n\u001B[1;32m    820\u001B[0m         filtered_obs = self.workers.local_worker().filters[policy_id](\n",
      "\u001B[0;32m~/.local/lib/python3.8/site-packages/ray/rllib/models/preprocessors.py\u001B[0m in \u001B[0;36mtransform\u001B[0;34m(self, observation)\u001B[0m\n\u001B[1;32m    166\u001B[0m     \u001B[0;34m@\u001B[0m\u001B[0moverride\u001B[0m\u001B[0;34m(\u001B[0m\u001B[0mPreprocessor\u001B[0m\u001B[0;34m)\u001B[0m\u001B[0;34m\u001B[0m\u001B[0;34m\u001B[0m\u001B[0m\n\u001B[1;32m    167\u001B[0m     \u001B[0;32mdef\u001B[0m \u001B[0mtransform\u001B[0m\u001B[0;34m(\u001B[0m\u001B[0mself\u001B[0m\u001B[0;34m,\u001B[0m \u001B[0mobservation\u001B[0m\u001B[0;34m:\u001B[0m \u001B[0mTensorType\u001B[0m\u001B[0;34m)\u001B[0m \u001B[0;34m->\u001B[0m \u001B[0mnp\u001B[0m\u001B[0;34m.\u001B[0m\u001B[0mndarray\u001B[0m\u001B[0;34m:\u001B[0m\u001B[0;34m\u001B[0m\u001B[0;34m\u001B[0m\u001B[0m\n\u001B[0;32m--> 168\u001B[0;31m         \u001B[0mself\u001B[0m\u001B[0;34m.\u001B[0m\u001B[0mcheck_shape\u001B[0m\u001B[0;34m(\u001B[0m\u001B[0mobservation\u001B[0m\u001B[0;34m)\u001B[0m\u001B[0;34m\u001B[0m\u001B[0;34m\u001B[0m\u001B[0m\n\u001B[0m\u001B[1;32m    169\u001B[0m         \u001B[0;32mreturn\u001B[0m \u001B[0mobservation\u001B[0m\u001B[0;34m\u001B[0m\u001B[0;34m\u001B[0m\u001B[0m\n\u001B[1;32m    170\u001B[0m \u001B[0;34m\u001B[0m\u001B[0m\n",
      "\u001B[0;32m~/.local/lib/python3.8/site-packages/ray/rllib/models/preprocessors.py\u001B[0m in \u001B[0;36mcheck_shape\u001B[0;34m(self, observation)\u001B[0m\n\u001B[1;32m     65\u001B[0m                         observation, self._obs_space)\n\u001B[1;32m     66\u001B[0m             \u001B[0;32mexcept\u001B[0m \u001B[0mAttributeError\u001B[0m\u001B[0;34m:\u001B[0m\u001B[0;34m\u001B[0m\u001B[0;34m\u001B[0m\u001B[0m\n\u001B[0;32m---> 67\u001B[0;31m                 raise ValueError(\n\u001B[0m\u001B[1;32m     68\u001B[0m                     \u001B[0;34m\"Observation for a Box/MultiBinary/MultiDiscrete space \"\u001B[0m\u001B[0;34m\u001B[0m\u001B[0;34m\u001B[0m\u001B[0m\n\u001B[1;32m     69\u001B[0m                     \"should be an np.array, not a Python list.\", observation)\n",
      "\u001B[0;31mValueError\u001B[0m: ('Observation for a Box/MultiBinary/MultiDiscrete space should be an np.array, not a Python list.', (array([3.99, 3.99, 3.99, 3.99, 3.99, 3.99, 3.99, 3.99, 3.99, 3.99, 3.99,\n       3.99, 3.99, 3.99, 3.99, 3.99, 3.99, 3.99], dtype=float32), array([9.99      , 0.22813019]), array([-1.,  1.])))"
     ]
    }
   ],
   "source": [
    "episode_reward = test(agent=agent, env=env)\n",
    "episode_reward"
   ],
   "metadata": {
    "collapsed": false,
    "pycharm": {
     "name": "#%%\n"
    }
   }
  },
  {
   "cell_type": "code",
   "execution_count": null,
   "outputs": [],
   "source": [
    "\n"
   ],
   "metadata": {
    "collapsed": false,
    "pycharm": {
     "name": "#%%\n"
    }
   }
  }
 ],
 "metadata": {
  "kernelspec": {
   "name": "pycharm-49841455",
   "language": "python",
   "display_name": "PyCharm (MasterThesis)"
  },
  "language_info": {
   "codemirror_mode": {
    "name": "ipython",
    "version": 2
   },
   "file_extension": ".py",
   "mimetype": "text/x-python",
   "name": "python",
   "nbconvert_exporter": "python",
   "pygments_lexer": "ipython2",
   "version": "2.7.6"
  }
 },
 "nbformat": 4,
 "nbformat_minor": 0
}