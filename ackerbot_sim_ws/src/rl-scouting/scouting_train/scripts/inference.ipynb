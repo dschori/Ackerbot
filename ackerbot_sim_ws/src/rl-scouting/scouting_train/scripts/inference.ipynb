{
 "cells": [
  {
   "cell_type": "code",
   "execution_count": 1,
   "metadata": {
    "collapsed": true
   },
   "outputs": [
    {
     "name": "stdout",
     "output_type": "stream",
     "text": [
      "WARNING:tensorflow:From /home/dschori/.local/lib/python3.8/site-packages/tensorflow/python/compat/v2_compat.py:96: disable_resource_variables (from tensorflow.python.ops.variable_scope) is deprecated and will be removed in a future version.\n",
      "Instructions for updating:\n",
      "non-resource variables are not supported in the long term\n"
     ]
    }
   ],
   "source": [
    "import gym\n",
    "import ray\n",
    "from ray.rllib.agents.ppo import PPOTrainer\n",
    "from scouting_gym.scouting_env_real import ScoutingEnvInference\n",
    "from gym.envs.registration import register\n",
    "from IPython.display import clear_output\n",
    "\n",
    "register(\n",
    "    id='Scouting-inference-v0',\n",
    "    entry_point='scouting_gym.scouting_env_real:ScoutingEnvInference'\n",
    ")"
   ]
  },
  {
   "cell_type": "code",
   "execution_count": 2,
   "outputs": [
    {
     "name": "stderr",
     "output_type": "stream",
     "text": [
      "[ERROR] [1611844845.193488]: Current /scan not ready yet, retrying for getting laser_scan\n"
     ]
    },
    {
     "name": "stdout",
     "output_type": "stream",
     "text": [
      "(array([0.7343741 , 2.4961479 , 2.3182755 , 3.1681209 , 2.053265  ,\n",
      "       2.3256779 , 3.837255  , 3.0036259 , 1.0221846 , 2.302958  ,\n",
      "       2.1137152 , 3.672243  , 2.9076405 , 2.3092177 , 0.44011754,\n",
      "       2.4117916 , 2.531386  , 0.30688444], dtype=float32), array([8.151919 , 1.4234198], dtype=float32), array([0.4507907 , 0.84739566], dtype=float32))\n",
      "Tuple(Box(0.0, 4.0, (18,), float32), Box(-10.0, 10.0, (2,), float32), Box(-1.0, 1.0, (2,), float32))\n"
     ]
    }
   ],
   "source": [
    "env = gym.make('Scouting-inference-v0')\n",
    "\n",
    "print(env.observation_space)"
   ],
   "metadata": {
    "collapsed": false,
    "pycharm": {
     "name": "#%%\n"
    }
   }
  },
  {
   "cell_type": "code",
   "execution_count": 3,
   "outputs": [
    {
     "name": "stdout",
     "output_type": "stream",
     "text": [
      "[-3.3814182031314273, -1.8544499186115495, -0.11191840813799239]\n"
     ]
    },
    {
     "data": {
      "text/plain": "(array([1.7717302 , 3.4954677 , 2.2796528 , 1.7497336 , 1.3118002 ,\n        0.69589406, 0.7038929 , 0.7638837 , 1.293803  , 3.7794247 ,\n        1.5857586 , 1.1878191 , 1.3277978 , 1.2798052 , 1.4877734 ,\n        3.6354465 , 1.9277065 , 1.7157388 ], dtype=float32),\n array([0.0814182 , 0.15444992], dtype=float32),\n array([-0.99, -0.99], dtype=float32))"
     },
     "execution_count": 3,
     "metadata": {},
     "output_type": "execute_result"
    }
   ],
   "source": [
    "obs = env.reset()\n",
    "obs"
   ],
   "metadata": {
    "collapsed": false,
    "pycharm": {
     "name": "#%%\n"
    }
   }
  },
  {
   "cell_type": "code",
   "execution_count": 4,
   "outputs": [
    {
     "name": "stdout",
     "output_type": "stream",
     "text": [
      "-1.9829870348639111 -1.744520828712645\n"
     ]
    }
   ],
   "source": [
    "print(env.offs_x, env.offs_y)"
   ],
   "metadata": {
    "collapsed": false,
    "pycharm": {
     "name": "#%%\n"
    }
   }
  },
  {
   "cell_type": "code",
   "execution_count": 12,
   "outputs": [
    {
     "name": "stdout",
     "output_type": "stream",
     "text": [
      "[0.50019634 0.2855621 ] [ 0.03515336 -0.01265672]\n",
      "break\n",
      "(array([3.145521  , 3.3794854 , 0.7918794 , 0.74988586, 0.63790286,\n",
      "       0.6199056 , 0.62790436, 0.6938943 , 1.0258437 , 2.5716083 ,\n",
      "       3.331493  , 3.1875148 , 2.6975894 , 0.78588027, 0.8258742 ,\n",
      "       0.81787544, 1.4857738 , 3.4374766 ], dtype=float32), array([0.50019634, 0.2855621 ], dtype=float32), array([ 0.03515336, -0.01265672], dtype=float32))\n",
      "[-1.8846205486223986, -1.684338355202867, -0.11227330576711596]\n"
     ]
    },
    {
     "data": {
      "text/plain": "(array([3.209511  , 3.4034817 , 0.7778815 , 0.76788306, 0.6299041 ,\n        0.6019084 , 0.6119068 , 0.68189615, 0.99184895, 2.5456123 ,\n        3.3054967 , 3.1715171 , 2.7115872 , 0.7978785 , 0.79387903,\n        0.84187186, 1.4977719 , 3.4754708 ], dtype=float32),\n array([0.48462054, 0.28433836], dtype=float32),\n array([-0.99, -0.99], dtype=float32))"
     },
     "execution_count": 12,
     "metadata": {},
     "output_type": "execute_result"
    }
   ],
   "source": [
    "import time\n",
    "env.reset()\n",
    "for _ in range(10):\n",
    "    #obs, reward, done, _ = env.step(1)\n",
    "    time.sleep(0.5)\n",
    "    obs, reward, done, _ = env.step([0.0, ])\n",
    "\n",
    "    clear_output(wait=True)\n",
    "    print(obs[1], obs[2])\n",
    "    if done:\n",
    "        print('break')\n",
    "        break\n",
    "print(obs)\n",
    "env.reset()"
   ],
   "metadata": {
    "collapsed": false,
    "pycharm": {
     "name": "#%%\n"
    }
   }
  },
  {
   "cell_type": "code",
   "execution_count": 5,
   "outputs": [
    {
     "name": "stdout",
     "output_type": "stream",
     "text": [
      "(array([2.371639 , 1.5197686, 1.083835 , 1.5697609, 3.99     , 1.7457341,\n",
      "       0.9118612, 0.781881 , 0.6758971, 0.6519007, 1.18182  , 1.333797 ,\n",
      "       1.549764 , 3.1415217, 2.2296605, 2.3456428, 2.371639 , 2.547612 ],\n",
      "      dtype=float32), array([0.0542413 , 0.32386878], dtype=float32), array([0.99     , 0.1522624], dtype=float32))\n"
     ]
    }
   ],
   "source": [
    "print(obs)"
   ],
   "metadata": {
    "collapsed": false,
    "pycharm": {
     "name": "#%%\n"
    }
   }
  },
  {
   "cell_type": "code",
   "execution_count": 4,
   "outputs": [
    {
     "name": "stderr",
     "output_type": "stream",
     "text": [
      "2021-01-28 15:40:51,592\tINFO resource_spec.py:223 -- Starting Ray with 6.54 GiB memory available for workers and up to 3.29 GiB for objects. You can adjust these settings with ray.init(memory=<bytes>, object_store_memory=<bytes>).\n",
      "2021-01-28 15:40:52,362\tINFO services.py:1191 -- View the Ray dashboard at \u001B[1m\u001B[32mlocalhost:8265\u001B[39m\u001B[22m\n"
     ]
    },
    {
     "data": {
      "text/plain": "{'node_ip_address': '192.168.178.21',\n 'raylet_ip_address': '192.168.178.21',\n 'redis_address': '192.168.178.21:6379',\n 'object_store_address': '/tmp/ray/session_2021-01-28_15-40-51_587588_48670/sockets/plasma_store',\n 'raylet_socket_name': '/tmp/ray/session_2021-01-28_15-40-51_587588_48670/sockets/raylet',\n 'webui_url': 'localhost:8265',\n 'session_dir': '/tmp/ray/session_2021-01-28_15-40-51_587588_48670'}"
     },
     "execution_count": 4,
     "metadata": {},
     "output_type": "execute_result"
    }
   ],
   "source": [
    "ray.init()"
   ],
   "metadata": {
    "collapsed": false,
    "pycharm": {
     "name": "#%%\n"
    }
   }
  },
  {
   "cell_type": "code",
   "execution_count": 5,
   "outputs": [],
   "source": [
    "config = {\n",
    "    \"env\": ScoutingEnvInference,  # or \"corridor\" if registered above\n",
    "    \"env_config\": {\n",
    "        \"corridor_length\": 5,\n",
    "    },\n",
    "    # Use GPUs iff `RLLIB_NUM_GPUS` env var set to > 0.\n",
    "\n",
    "    \"num_gpus\": 0,\n",
    "    \"num_workers\": 1,  # parallelism\n",
    "    \"model\": {\n",
    "        \"fcnet_hiddens\": [256, ],\n",
    "        #\"fcnet_hiddens\": tune.grid_search([[64, 64, ], [128, 128, ], [256, 256, ]])\n",
    "    }\n",
    "}"
   ],
   "metadata": {
    "collapsed": false,
    "pycharm": {
     "name": "#%%\n"
    }
   }
  },
  {
   "cell_type": "code",
   "execution_count": 6,
   "outputs": [],
   "source": [
    "def load(checkpoint_path, config):\n",
    "    \"\"\"\n",
    "    Load a trained RLlib agent from the specified path. Call this before testing a trained agent.\n",
    "    :param path: Path pointing to the agent's saved checkpoint (only used for RLlib agents)\n",
    "    \"\"\"\n",
    "    agent = PPOTrainer(config=config)\n",
    "    agent.restore(checkpoint_path)\n",
    "    return agent\n",
    "import numpy as np\n",
    "from gym import spaces\n",
    "def test(agent, env):\n",
    "    \"\"\"Test trained agent for a single episode. Return the episode reward\"\"\"\n",
    "    # instantiate env class\n",
    "\n",
    "    # run until episode ends\n",
    "    episode_reward = 0\n",
    "    done = False\n",
    "    obs = env.reset()\n",
    "    while not done:\n",
    "        action = agent.compute_action(obs)\n",
    "        obs, reward, done, info = env.step(action)\n",
    "        clear_output(wait=True)\n",
    "        print(obs[1])\n",
    "        episode_reward += reward\n",
    "    env.reset()\n",
    "    return episode_reward"
   ],
   "metadata": {
    "collapsed": false,
    "pycharm": {
     "name": "#%%\n"
    }
   }
  },
  {
   "cell_type": "code",
   "execution_count": 7,
   "outputs": [],
   "source": [
    "checkpoint_path = '/home/dschori/Downloads/checkpoint_51/checkpoint-51'"
   ],
   "metadata": {
    "collapsed": false,
    "pycharm": {
     "name": "#%%\n"
    }
   }
  },
  {
   "cell_type": "code",
   "execution_count": 8,
   "outputs": [
    {
     "name": "stderr",
     "output_type": "stream",
     "text": [
      "2021-01-28 15:40:59,001\tINFO trainer.py:605 -- Tip: set framework=tfe or the --eager flag to enable TensorFlow eager execution\n",
      "2021-01-28 15:40:59,005\tINFO trainer.py:630 -- Current log_level is WARN. For more information, set 'log_level': 'INFO' / 'DEBUG' or use the -v and -vv flags.\n",
      "\u001B[2m\u001B[36m(pid=48785)\u001B[0m WARNING:tensorflow:From /home/dschori/.local/lib/python3.8/site-packages/tensorflow/python/compat/v2_compat.py:96: disable_resource_variables (from tensorflow.python.ops.variable_scope) is deprecated and will be removed in a future version.\n",
      "\u001B[2m\u001B[36m(pid=48785)\u001B[0m Instructions for updating:\n",
      "\u001B[2m\u001B[36m(pid=48785)\u001B[0m non-resource variables are not supported in the long term\n",
      "2021-01-28 15:41:08,102\tWARNING util.py:37 -- Install gputil for GPU system monitoring.\n",
      "2021-01-28 15:41:08,221\tINFO trainable.py:472 -- Restored on 192.168.178.21 from checkpoint: /home/dschori/Downloads/checkpoint_51/checkpoint-51\n",
      "2021-01-28 15:41:08,222\tINFO trainable.py:480 -- Current state after restoring: {'_iteration': 51, '_timesteps_total': None, '_time_total': 9183.714475870132, '_episodes_total': 1293}\n",
      "\u001B[2m\u001B[36m(pid=48785)\u001B[0m [ERROR] [1611844871.440497]: TF not ready yet, retrying for getting tf msg\n"
     ]
    },
    {
     "name": "stdout",
     "output_type": "stream",
     "text": [
      "(array([2.4448283 , 3.0445101 , 2.6791432 , 3.740952  , 0.20781107,\n",
      "       3.4154186 , 2.164655  , 3.6742406 , 0.52097183, 0.13686216,\n",
      "       2.1084461 , 1.2485379 , 1.0531713 , 2.70111   , 1.5785227 ,\n",
      "       1.6416779 , 2.668904  , 3.1490288 ], dtype=float32), array([ 2.0586426, -6.165655 ], dtype=float32), array([0.50621814, 0.9000319 ], dtype=float32))\n"
     ]
    }
   ],
   "source": [
    "agent = load(checkpoint_path=checkpoint_path, config=config)"
   ],
   "metadata": {
    "collapsed": false,
    "pycharm": {
     "name": "#%%\n"
    }
   }
  },
  {
   "cell_type": "code",
   "execution_count": 24,
   "outputs": [],
   "source": [
    "env.target_p = (-2., -1.6)"
   ],
   "metadata": {
    "collapsed": false,
    "pycharm": {
     "name": "#%%\n"
    }
   }
  },
  {
   "cell_type": "code",
   "execution_count": 25,
   "outputs": [
    {
     "name": "stdout",
     "output_type": "stream",
     "text": [
      "[-0.47864813  0.04292046]\n",
      "[-1.5550143026821146, -1.6592586383164387, -0.11195966085212106]\n"
     ]
    },
    {
     "data": {
      "text/plain": "116.61992595477511"
     },
     "execution_count": 25,
     "metadata": {},
     "output_type": "execute_result"
    }
   ],
   "source": [
    "episode_reward = test(agent=agent, env=env)\n",
    "episode_reward"
   ],
   "metadata": {
    "collapsed": false,
    "pycharm": {
     "name": "#%%\n"
    }
   }
  },
  {
   "cell_type": "code",
   "execution_count": 20,
   "outputs": [
    {
     "name": "stdout",
     "output_type": "stream",
     "text": [
      "[-4.76677755406737, -2.1496847361693803, -0.10936877266553566]\n"
     ]
    },
    {
     "data": {
      "text/plain": "array([0.29416484], dtype=float32)"
     },
     "execution_count": 20,
     "metadata": {},
     "output_type": "execute_result"
    }
   ],
   "source": [
    "agent.compute_action(env.reset())"
   ],
   "metadata": {
    "collapsed": false,
    "pycharm": {
     "name": "#%%\n"
    }
   }
  },
  {
   "cell_type": "code",
   "execution_count": null,
   "outputs": [],
   "source": [],
   "metadata": {
    "collapsed": false,
    "pycharm": {
     "name": "#%%\n"
    }
   }
  }
 ],
 "metadata": {
  "kernelspec": {
   "name": "pycharm-ca6e23ae",
   "language": "python",
   "display_name": "PyCharm (MasterThesis)"
  },
  "language_info": {
   "codemirror_mode": {
    "name": "ipython",
    "version": 2
   },
   "file_extension": ".py",
   "mimetype": "text/x-python",
   "name": "python",
   "nbconvert_exporter": "python",
   "pygments_lexer": "ipython2",
   "version": "2.7.6"
  }
 },
 "nbformat": 4,
 "nbformat_minor": 0
}